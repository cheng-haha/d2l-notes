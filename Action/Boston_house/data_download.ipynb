{
 "cells": [
  {
   "cell_type": "code",
   "execution_count": 2,
   "source": [
    "import hashlib\r\n",
    "import os\r\n",
    "import tarfile\r\n",
    "import zipfile\r\n",
    "import requests\r\n",
    "\r\n",
    "#@save\r\n",
    "DATA_HUB = dict()\r\n",
    "DATA_URL = 'http://d2l-data.s3-accelerate.amazonaws.com/'\r\n"
   ],
   "outputs": [],
   "metadata": {}
  },
  {
   "cell_type": "code",
   "execution_count": 3,
   "source": [
    "def download(name, cache_dir=os.path.join('..', 'data')):  #@save\r\n",
    "    \"\"\"下载一个DATA_HUB中的文件，返回本地文件名。\"\"\"\r\n",
    "    assert name in DATA_HUB, f\"{name} 不存在于 {DATA_HUB}.\"\r\n",
    "    url, sha1_hash = DATA_HUB[name]\r\n",
    "    os.makedirs(cache_dir, exist_ok=True)\r\n",
    "    fname = os.path.join(cache_dir, url.split('/')[-1])\r\n",
    "    if os.path.exists(fname):\r\n",
    "        sha1 = hashlib.sha1()\r\n",
    "        with open(fname, 'rb') as f:\r\n",
    "            while True:\r\n",
    "                data = f.read(1048576)\r\n",
    "                if not data:\r\n",
    "                    break\r\n",
    "                sha1.update(data)\r\n",
    "        if sha1.hexdigest() == sha1_hash:\r\n",
    "            return fname  # Hit cache\r\n",
    "    print(f'正在从{url}下载{fname}...')\r\n",
    "    r = requests.get(url, stream=True, verify=True)\r\n",
    "    with open(fname, 'wb') as f:\r\n",
    "        f.write(r.content)\r\n",
    "    return fname\r\n"
   ],
   "outputs": [],
   "metadata": {}
  },
  {
   "cell_type": "code",
   "execution_count": 5,
   "source": [
    "def download_extract(name, folder=None):  #@save\r\n",
    "    \"\"\"下载并解压zip/tar文件。\"\"\"\r\n",
    "    fname = download(name)\r\n",
    "    base_dir = os.path.dirname(fname)\r\n",
    "    data_dir, ext = os.path.splitext(fname)\r\n",
    "    if ext == '.zip':\r\n",
    "        fp = zipfile.ZipFile(fname, 'r')\r\n",
    "    elif ext in ('.tar', '.gz'):\r\n",
    "        fp = tarfile.open(fname, 'r')\r\n",
    "    else:\r\n",
    "        assert False, '只有zip/tar文件可以被解压缩。'\r\n",
    "    fp.extractall(base_dir)\r\n",
    "    return os.path.join(base_dir, folder) if folder else data_dir\r\n",
    "\r\n",
    "def download_all():  #@save\r\n",
    "    \"\"\"下载DATA_HUB中的所有文件。\"\"\"\r\n",
    "    for name in DATA_HUB:\r\n",
    "        download(name)\r\n"
   ],
   "outputs": [],
   "metadata": {}
  },
  {
   "cell_type": "code",
   "execution_count": null,
   "source": [],
   "outputs": [],
   "metadata": {}
  }
 ],
 "metadata": {
  "orig_nbformat": 4,
  "language_info": {
   "name": "python",
   "version": "3.7.10",
   "mimetype": "text/x-python",
   "codemirror_mode": {
    "name": "ipython",
    "version": 3
   },
   "pygments_lexer": "ipython3",
   "nbconvert_exporter": "python",
   "file_extension": ".py"
  },
  "kernelspec": {
   "name": "python3",
   "display_name": "Python 3.7.10 64-bit ('d2l': conda)"
  },
  "interpreter": {
   "hash": "4e3237dc568d8c012c4be0ad63f07931f6897ff43d3b726284ebc51bc8854128"
  }
 },
 "nbformat": 4,
 "nbformat_minor": 2
}