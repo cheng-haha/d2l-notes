{
 "cells": [
  {
   "cell_type": "code",
   "execution_count": 1,
   "metadata": {},
   "outputs": [],
   "source": [
    "import math\n",
    "import torch\n",
    "from torch import nn\n",
    "from d2l import torch as d2l"
   ]
  },
  {
   "cell_type": "code",
   "execution_count": 2,
   "metadata": {},
   "outputs": [],
   "source": [
    "def transpose_qkv(X, num_heads):\n",
    "    \n",
    "    # 输入 `X` 的形状: ( `batch_size`, 查询或者“键－值”对的个数, `num_hiddens` ).\n",
    "    # 输出 `X` 的形状: ( `batch_size`, 查询或者“键－值”对的个数, `num_heads`,\n",
    "    # `num_hiddens` / `num_heads` )\n",
    "    X = X.reshape( X.shape[0], X.shape[1], num_heads, -1 )\n",
    "\n",
    "    # 输出 `X` 的形状: (`batch_size`, `num_heads`, 查询或者“键－值”对的个数,\n",
    "    # `num_hiddens` / `num_heads` )\n",
    "    X = X.permute( 0, 2, 1, 3 )\n",
    "\n",
    "    # `output` 的形状: (`batch_size` * `num_heads`, 查询或者“键－值”对的个数,\n",
    "    # `num_hiddens` / `num_heads`)\n",
    "    return X.reshape( -1, X.shape[2], X.shape[3] )\n",
    "\n",
    "#\n",
    "def transpose_output(X, num_heads):\n",
    "    \"\"\"逆转 `transpose_qkv` 函数的操作\"\"\"\n",
    "    X = X.reshape(-1, num_heads, X.shape[1], X.shape[2])\n",
    "    X = X.permute( 0, 2, 1, 3 )\n",
    "    return X.reshape(X.shape[0], X.shape[1], -1)\n"
   ]
  },
  {
   "cell_type": "code",
   "execution_count": 3,
   "metadata": {},
   "outputs": [],
   "source": [
    "class MultiHeadAttention(nn.Module):\n",
    "    '''多头注意力将输入的特征维度(往往是最后一个维度)使用头(num_heads)拆分，保证最后的输出维度是qkv三种特征维度的的num_head倍，\n",
    "        d2l解释为多头注意力融合了来自于相同注意力的不同知识，这些知识的不同在于来自相同qkv的不同子空间表示'''\n",
    "    def __init__(self, key_size, query_size, value_size, num_hiddens,\n",
    "                 num_heads, dropout, bias=False, **kwargs):\n",
    "        super(MultiHeadAttention, self).__init__(**kwargs)\n",
    "        self.num_heads = num_heads\n",
    "        self.attention = d2l.DotProductAttention(dropout)\n",
    "        self.W_q = nn.Linear(query_size, num_hiddens, bias=bias)\n",
    "        self.W_k = nn.Linear(key_size, num_hiddens, bias=bias)\n",
    "        self.W_v = nn.Linear(value_size, num_hiddens, bias=bias)\n",
    "        self.W_o = nn.Linear(num_hiddens, num_hiddens, bias=bias)\n",
    "\n",
    "    def forward(self, queries, keys, values, valid_lens):\n",
    "        # `queries`, `keys`, or `values` 的形状:\n",
    "        # (`batch_size`, 查询或者“键－值”对的个数, `num_hiddens`)\n",
    "        # `valid_lens`　的形状:\n",
    "        # (`batch_size`,) or (`batch_size`, 查询的个数)\n",
    "        # 经过变换后，输出的 `queries`, `keys`, or `values`　的形状:\n",
    "        # (`batch_size` * `num_heads`, 查询或者“键－值”对的个数,\n",
    "        # `num_hiddens` / `num_heads`)\n",
    "        queries = transpose_qkv( self.W_q(queries), self.num_heads )\n",
    "        keys = transpose_qkv( self.W_k(keys), self.num_heads )\n",
    "        values = transpose_qkv( self.W_v(values), self.num_heads )\n",
    "\n",
    "        if valid_lens is not None:\n",
    "            # 在轴 0，将第一项（标量或者矢量）复制 `num_heads` 次，\n",
    "            # 然后如此复制第二项，然后诸如此类。\n",
    "            valid_lens = torch.repeat_interleave(\n",
    "                valid_lens, repeats=self.num_heads, dim=0)\n",
    "\n",
    "        # `output` 的形状: (`batch_size` * `num_heads`, 查询的个数,\n",
    "        # `num_hiddens` / `num_heads`)\n",
    "        output = self.attention(queries, keys, values, valid_lens)\n",
    "\n",
    "        # `output_concat` 的形状: (`batch_size`, 查询的个数, `num_hiddens`)\n",
    "        output_concat = transpose_output(output, self.num_heads)\n",
    "        return self.W_o(output_concat)#Wo矩阵是个(num_hiddens , num_hiddens )的形状的矩阵，所以整个多头注意力处理完实际上返回的就是(`batch_size`, 查询的个数, `num_hiddens`)"
   ]
  },
  {
   "cell_type": "markdown",
   "metadata": {},
   "source": [
    "* 按理来说多头注意力不应该这么做的，原文这样做是要减少参数。实际上我们需要的是Pq = Pk = Pv = Po * num_heads;原代码使用的是Pq /h = Pk /h  = Pv / h = Po的方式\n",
    "* 如果是自注意力机制，就要保证q,k,v,o四者输出维度保持一致"
   ]
  },
  {
   "cell_type": "code",
   "execution_count": 4,
   "metadata": {},
   "outputs": [
    {
     "data": {
      "text/plain": [
       "MultiHeadAttention(\n",
       "  (attention): DotProductAttention(\n",
       "    (dropout): Dropout(p=0.5, inplace=False)\n",
       "  )\n",
       "  (W_q): Linear(in_features=100, out_features=100, bias=False)\n",
       "  (W_k): Linear(in_features=100, out_features=100, bias=False)\n",
       "  (W_v): Linear(in_features=100, out_features=100, bias=False)\n",
       "  (W_o): Linear(in_features=100, out_features=100, bias=False)\n",
       ")"
      ]
     },
     "execution_count": 4,
     "metadata": {},
     "output_type": "execute_result"
    }
   ],
   "source": [
    "num_hiddens, num_heads = 100, 5\n",
    "attention = MultiHeadAttention(num_hiddens, num_hiddens, num_hiddens,\n",
    "                               num_hiddens, num_heads, 0.5)\n",
    "attention.train()"
   ]
  },
  {
   "cell_type": "code",
   "execution_count": 5,
   "metadata": {},
   "outputs": [
    {
     "data": {
      "text/plain": [
       "torch.Size([2, 4, 100])"
      ]
     },
     "execution_count": 5,
     "metadata": {},
     "output_type": "execute_result"
    }
   ],
   "source": [
    "batch_size, num_queries, num_kvpairs, valid_lens = 2, 4, 6, torch.tensor([3, 2])\n",
    "X = torch.ones((batch_size, num_queries, num_hiddens))\n",
    "Y = torch.ones((batch_size, num_kvpairs, num_hiddens))\n",
    "attention(X, Y, Y, valid_lens).shape"
   ]
  },
  {
   "cell_type": "code",
   "execution_count": 6,
   "metadata": {},
   "outputs": [
    {
     "data": {
      "text/plain": [
       "<function _VariableFunctionsClass.sigmoid>"
      ]
     },
     "execution_count": 6,
     "metadata": {},
     "output_type": "execute_result"
    }
   ],
   "source": [
    "torch.sigmoid"
   ]
  }
 ],
 "metadata": {
  "interpreter": {
   "hash": "31f2aee4e71d21fbe5cf8b01ff0e069b9275f58929596ceb00d14d90e3e16cd6"
  },
  "kernelspec": {
   "display_name": "Python 3.6.9 64-bit",
   "name": "python3"
  },
  "language_info": {
   "codemirror_mode": {
    "name": "ipython",
    "version": 3
   },
   "file_extension": ".py",
   "mimetype": "text/x-python",
   "name": "python",
   "nbconvert_exporter": "python",
   "pygments_lexer": "ipython3",
   "version": "3.6.9"
  },
  "orig_nbformat": 4
 },
 "nbformat": 4,
 "nbformat_minor": 2
}
