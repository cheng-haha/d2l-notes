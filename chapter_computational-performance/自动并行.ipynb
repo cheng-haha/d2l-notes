{
 "cells": [
  {
   "cell_type": "code",
   "execution_count": 28,
   "metadata": {},
   "outputs": [],
   "source": [
    "import torch \n",
    "from d2l import torch as d2l"
   ]
  },
  {
   "cell_type": "code",
   "execution_count": 29,
   "metadata": {},
   "outputs": [
    {
     "data": {
      "text/plain": [
       "[device(type='cuda', index=0),\n",
       " device(type='cuda', index=1),\n",
       " device(type='cuda', index=2),\n",
       " device(type='cuda', index=3)]"
      ]
     },
     "execution_count": 29,
     "metadata": {},
     "output_type": "execute_result"
    }
   ],
   "source": [
    "flag = True\n",
    "devices=  d2l.try_all_gpus() if flag else d2l.try_gpu()#第一个返回device列表，第二个返回device\n",
    "devices"
   ]
  },
  {
   "cell_type": "code",
   "execution_count": 30,
   "metadata": {},
   "outputs": [],
   "source": [
    "def run( X ):\n",
    "    return [X.mm(X) for _ in range( 50 )]\n",
    "x_base = torch.rand( size=( 4000 , 4000 ))\n",
    "x_gpu1 = torch.rand( size=( 4000 , 4000 ) , device= devices[0] )\n",
    "x_gpu2 = torch.rand( size=( 4000, 4000 ) ,device=devices[3] )"
   ]
  },
  {
   "cell_type": "code",
   "execution_count": 31,
   "metadata": {},
   "outputs": [
    {
     "name": "stdout",
     "output_type": "stream",
     "text": [
      "CPU time: 5.4600 sec\n",
      "GPU1 time: 0.1975 sec\n",
      "GPU2 time: 0.0014 sec\n"
     ]
    }
   ],
   "source": [
    "run( x_gpu1 )\n",
    "run( x_gpu2 )\n",
    "torch.cuda.synchronize()\n",
    "with d2l.Benchmark( 'CPU time'):\n",
    "    run( x_base )\n",
    "    torch.cuda.synchronize()\n",
    "with d2l.Benchmark( 'GPU1 time'):\n",
    "    run( x_gpu1 )\n",
    "    torch.cuda.synchronize()\n",
    "with d2l.Benchmark('GPU2 time'):\n",
    "    run(x_gpu2)\n",
    "    torch.cuda.synchronize()"
   ]
  },
  {
   "cell_type": "code",
   "execution_count": 32,
   "metadata": {},
   "outputs": [
    {
     "name": "stdout",
     "output_type": "stream",
     "text": [
      "GPU1 & GPU2: 0.1864 sec\n"
     ]
    }
   ],
   "source": [
    "with d2l.Benchmark('GPU1 & GPU2'):#异步导致gpu板子训练可以并行化\n",
    "    run( x_gpu1 )\n",
    "    run( x_gpu2 )\n",
    "    torch.cuda.synchronize()"
   ]
  },
  {
   "cell_type": "code",
   "execution_count": 33,
   "metadata": {},
   "outputs": [
    {
     "name": "stdout",
     "output_type": "stream",
     "text": [
      "在GPU1上运行: 0.1862 sec\n",
      "复制到CPU: 3.4440 sec\n"
     ]
    }
   ],
   "source": [
    "def copy_to_cpu(x, non_blocking=False):\n",
    "    return [y.to('cpu', non_blocking=non_blocking) for y in x]\n",
    "\n",
    "with d2l.Benchmark('在GPU1上运行'):\n",
    "    y = run(x_gpu1)\n",
    "    torch.cuda.synchronize()\n",
    "\n",
    "with d2l.Benchmark('复制到CPU'):\n",
    "    y_cpu = copy_to_cpu(y)\n",
    "    torch.cuda.synchronize()\n"
   ]
  },
  {
   "cell_type": "code",
   "execution_count": 34,
   "metadata": {},
   "outputs": [
    {
     "name": "stdout",
     "output_type": "stream",
     "text": [
      "在gpu1上运行并复制到cpu当中: 4.0524 sec\n"
     ]
    }
   ],
   "source": [
    "with d2l.Benchmark('在gpu1上运行并复制到cpu当中'):\n",
    "    y = run(x_gpu1)\n",
    "    y_cpu = copy_to_cpu( y )\n",
    "    torch.cuda.synchronize()"
   ]
  },
  {
   "cell_type": "code",
   "execution_count": 35,
   "metadata": {},
   "outputs": [
    {
     "name": "stdout",
     "output_type": "stream",
     "text": [
      "在gpu1上运行并复制到cpu当中: 0.4422 sec\n"
     ]
    }
   ],
   "source": [
    "with d2l.Benchmark('在gpu1上运行并复制到cpu当中'):\n",
    "    y = run(x_gpu1)\n",
    "    y_cpu = copy_to_cpu( y , non_blocking=True )#在可以异步的地方我们采用异步执行。也就是说即使上一步没有计算完，我们可以将上一行已经计算好的一部分梯度送到cpu\n",
    "    torch.cuda.synchronize()"
   ]
  },
  {
   "cell_type": "code",
   "execution_count": 38,
   "metadata": {},
   "outputs": [
    {
     "data": {
      "text/plain": [
       "device(type='cuda', index=0)"
      ]
     },
     "execution_count": 38,
     "metadata": {},
     "output_type": "execute_result"
    }
   ],
   "source": [
    "[d2l.try_gpu(i) for i in range(4)][0]\n"
   ]
  }
 ],
 "metadata": {
  "interpreter": {
   "hash": "50d5be1d15b8a64130c39dd1bec9da8c7a8ee88a4330e33eef1c05faa50f91e9"
  },
  "kernelspec": {
   "display_name": "Python 3.6.9 64-bit ('STR-env': venv)",
   "language": "python",
   "name": "python3"
  },
  "language_info": {
   "codemirror_mode": {
    "name": "ipython",
    "version": 3
   },
   "file_extension": ".py",
   "mimetype": "text/x-python",
   "name": "python",
   "nbconvert_exporter": "python",
   "pygments_lexer": "ipython3",
   "version": "3.6.9"
  },
  "orig_nbformat": 4
 },
 "nbformat": 4,
 "nbformat_minor": 2
}
