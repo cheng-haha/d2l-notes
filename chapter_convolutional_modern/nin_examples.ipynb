{
 "cells": [
  {
   "cell_type": "code",
   "execution_count": 1,
   "source": [
    "import torch\r\n",
    "from torch import nn\r\n",
    "from d2l import torch as d2l\r\n",
    "\r\n",
    "\r\n",
    "def nin_block(in_channels, out_channels, kernel_size, strides, padding):\r\n",
    "    return nn.Sequential(\r\n",
    "        nn.Conv2d(in_channels, out_channels, kernel_size, strides, padding),\r\n",
    "        nn.ReLU(),\r\n",
    "        nn.Conv2d(out_channels, out_channels, kernel_size=1), nn.ReLU(),\r\n",
    "        nn.Conv2d(out_channels, out_channels, kernel_size=1), nn.ReLU())\r\n"
   ],
   "outputs": [],
   "metadata": {}
  },
  {
   "cell_type": "code",
   "execution_count": 6,
   "source": [
    "net = nn.Sequential(\r\n",
    "    nin_block(1, 96, kernel_size=11, strides=4, padding=0),\r\n",
    "    nn.MaxPool2d(kernel_size= 3, stride=2),\r\n",
    "    nin_block(96, 256, kernel_size=5, strides=1, padding=2),\r\n",
    "    nn.MaxPool2d( kernel_size= 3, stride=2),\r\n",
    "    nin_block(256, 384, kernel_size=3, strides=1, padding=1),\r\n",
    "    nn.MaxPool2d( kernel_size= 3, stride=2),\r\n",
    "    nn.Dropout(0.5),\r\n",
    "    # 标签类别数是10\r\n",
    "    nin_block(384, 10, kernel_size=3, strides=1, padding=1),\r\n",
    "    nn.AdaptiveAvgPool2d((1, 1)),\r\n",
    "    # 将四维的输出转成二维的输出，其形状为(批量大小, 10)\r\n",
    "    nn.Flatten())\r\n"
   ],
   "outputs": [],
   "metadata": {}
  },
  {
   "cell_type": "code",
   "execution_count": 7,
   "source": [
    "X = torch.rand(size=(1, 1, 224, 224))\r\n",
    "for layer in net:\r\n",
    "    X = layer(X)\r\n",
    "    print(layer.__class__.__name__,'output shape:\\t', X.shape)\r\n"
   ],
   "outputs": [
    {
     "output_type": "stream",
     "name": "stdout",
     "text": [
      "Sequential output shape:\t torch.Size([1, 96, 54, 54])\n",
      "MaxPool2d output shape:\t torch.Size([1, 96, 26, 26])\n",
      "Sequential output shape:\t torch.Size([1, 256, 26, 26])\n",
      "MaxPool2d output shape:\t torch.Size([1, 256, 12, 12])\n",
      "Sequential output shape:\t torch.Size([1, 384, 12, 12])\n",
      "MaxPool2d output shape:\t torch.Size([1, 384, 5, 5])\n",
      "Dropout output shape:\t torch.Size([1, 384, 5, 5])\n",
      "Sequential output shape:\t torch.Size([1, 10, 5, 5])\n",
      "AdaptiveAvgPool2d output shape:\t torch.Size([1, 10, 1, 1])\n",
      "Flatten output shape:\t torch.Size([1, 10])\n"
     ]
    }
   ],
   "metadata": {}
  }
 ],
 "metadata": {
  "orig_nbformat": 4,
  "language_info": {
   "name": "python",
   "version": "3.7.10",
   "mimetype": "text/x-python",
   "codemirror_mode": {
    "name": "ipython",
    "version": 3
   },
   "pygments_lexer": "ipython3",
   "nbconvert_exporter": "python",
   "file_extension": ".py"
  },
  "kernelspec": {
   "name": "python3",
   "display_name": "Python 3.7.10 64-bit ('d2l': conda)"
  },
  "interpreter": {
   "hash": "4e3237dc568d8c012c4be0ad63f07931f6897ff43d3b726284ebc51bc8854128"
  }
 },
 "nbformat": 4,
 "nbformat_minor": 2
}