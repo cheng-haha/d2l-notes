{
 "cells": [
  {
   "cell_type": "code",
   "execution_count": 1,
   "source": [
    "import torch \r\n",
    "from torch import nn\r\n",
    "from d2l import torch as d2l\r\n",
    "from torch.nn import functional as F"
   ],
   "outputs": [],
   "metadata": {}
  },
  {
   "cell_type": "code",
   "execution_count": 2,
   "source": [
    "class Residual( nn.Module ):\r\n",
    "    def __init__ ( self  , input_channels , num_channels , kernel_size = 3 , padding  =1 , \r\n",
    "                    use1x1cov = False,inputs_strides =1   ):\r\n",
    "        super().__init__()\r\n",
    "        self.cov1 =  nn.Conv2d( input_channels , num_channels , kernel_size=kernel_size , \r\n",
    "                            stride=inputs_strides , padding=padding , )#更改输出的特征长度，相当于将原来的特征图除以2\r\n",
    "        self.cov2 = nn.Conv2d( num_channels , num_channels , kernel_size= kernel_size , \r\n",
    "                            stride=1 , padding= padding )\r\n",
    "        if use1x1cov :\r\n",
    "            self.cov3 = nn.Conv2d( input_channels , num_channels ,kernel_size=1,stride=inputs_strides )#如果更改了特征图的长度，那么\r\n",
    "                                                                    #就需要对输入x也更改特征图的长度，这里使用1*1的卷积核进行更改\r\n",
    "        else:\r\n",
    "            self.cov3 = None\r\n",
    "        self.bn1 = nn.BatchNorm2d( num_channels )\r\n",
    "        self.bn2 = nn.BatchNorm2d( num_channels )\r\n",
    "    \r\n",
    "    def forward( self , X ):\r\n",
    "        Y = F.relu( self.bn1( self.cov1( X )  ))\r\n",
    "        Y = self.bn2( self.cov2( Y ) )\r\n",
    "        if self.cov3:\r\n",
    "            X = self.cov3( X )\r\n",
    "        Y += X \r\n",
    "        return F.relu( Y )"
   ],
   "outputs": [],
   "metadata": {}
  },
  {
   "cell_type": "code",
   "execution_count": 3,
   "source": [
    "blk = Residual( 3,3 , use1x1cov=True  , inputs_strides= 2 )\r\n",
    "x = torch.rand( 4 ,3 , 6,6)\r\n",
    "x = blk( x )\r\n",
    "x.shape#更改长度"
   ],
   "outputs": [
    {
     "output_type": "execute_result",
     "data": {
      "text/plain": [
       "torch.Size([4, 3, 3, 3])"
      ]
     },
     "metadata": {},
     "execution_count": 3
    }
   ],
   "metadata": {}
  },
  {
   "cell_type": "code",
   "execution_count": 4,
   "source": [
    "blk = Residual( 3,6 ,use1x1cov=True )\r\n",
    "x = torch.rand( 4 ,3 , 6,6)\r\n",
    "x = blk( x )\r\n",
    "x.shape#更改通道数"
   ],
   "outputs": [
    {
     "output_type": "execute_result",
     "data": {
      "text/plain": [
       "torch.Size([4, 6, 6, 6])"
      ]
     },
     "metadata": {},
     "execution_count": 4
    }
   ],
   "metadata": {}
  },
  {
   "cell_type": "code",
   "execution_count": 5,
   "source": [
    "def resnet_block( input_channels , num_channels , num_residuals , first_block = False ):\r\n",
    "    #我们将这个Residual块添加到\r\n",
    "    blk = []\r\n",
    "    for i in range( num_residuals ):\r\n",
    "        if i == 0 and not first_block:\r\n",
    "            #如果是非第一个模块的第一个residucl块的话，就将改变通道数并且减半特征图大小的残差模块添加进去\r\n",
    "            blk.append( Residual( input_channels , num_channels  , use1x1cov=True , inputs_strides=2 ) )\r\n",
    "        else:#如果是第一个模块的第一个residual块，就添加到block当中，这里是承接maxpooling2d的第一个残差块\r\n",
    "            #如果不是非第一个模块的非第一个residucl块的话，就将当前不增加通道数的residucl块添加进去。\r\n",
    "            blk.append( Residual( num_channels , num_channels ) )\r\n",
    "    return blk"
   ],
   "outputs": [],
   "metadata": {}
  },
  {
   "cell_type": "code",
   "execution_count": 6,
   "source": [
    "b1 = nn.Sequential( nn.Conv2d( 1, 64 , kernel_size=7 , stride=2 , padding=3 ) , nn.BatchNorm2d( 64 ), nn.ReLU(),\r\n",
    "                        nn.MaxPool2d( kernel_size=3 , stride= 2 , padding=1 ) )"
   ],
   "outputs": [],
   "metadata": {}
  },
  {
   "cell_type": "code",
   "execution_count": 7,
   "source": [
    "b2 = nn.Sequential( *resnet_block( 64 , 64 , 2 , first_block=True ) )#每个模块包含两个残差块并且因为在maxplooing的时候我们实现了减半的操作，\r\n",
    "                                                                    #所以这里的第一个残差块就不需要减半了,也就是说直接执行else语句添加的是\r\n",
    "                                                                    #两个相同的输入输出通道\r\n",
    "b3 = nn.Sequential( *resnet_block( 64 , 128 , 2 ) )\r\n",
    "# b4 = nn.Sequential( *resnet_block( 128 , 256 , 2) )\r\n",
    "# b5 = nn.Sequential( *resnet_block( 256 ,512 , 2 ))"
   ],
   "outputs": [],
   "metadata": {}
  },
  {
   "cell_type": "code",
   "execution_count": 8,
   "source": [
    "net = nn.Sequential(b1, b2, b3,\r\n",
    "                    nn.AdaptiveAvgPool2d((1,1)),\r\n",
    "                    nn.Flatten(), nn.Linear(128, 10))\r\n"
   ],
   "outputs": [],
   "metadata": {}
  },
  {
   "cell_type": "code",
   "execution_count": 9,
   "source": [
    "x = torch.rand( 1,  1 ,224 ,224 )\r\n",
    "for layer in net:\r\n",
    "    x = layer( x )\r\n",
    "    print( layer.__class__.__name__,'output_size:',x.shape)"
   ],
   "outputs": [
    {
     "output_type": "stream",
     "name": "stdout",
     "text": [
      "Sequential output_size: torch.Size([1, 64, 56, 56])\n",
      "Sequential output_size: torch.Size([1, 64, 56, 56])\n",
      "Sequential output_size: torch.Size([1, 128, 28, 28])\n",
      "AdaptiveAvgPool2d output_size: torch.Size([1, 128, 1, 1])\n",
      "Flatten output_size: torch.Size([1, 128])\n",
      "Linear output_size: torch.Size([1, 10])\n"
     ]
    }
   ],
   "metadata": {}
  },
  {
   "cell_type": "code",
   "execution_count": 10,
   "source": [
    "lr , num_epochs , batch_size = 0.01,10,64\r\n",
    "train_iter , test_iter = d2l.load_data_fashion_mnist( batch_size=batch_size , resize=224 )\r\n",
    "d2l.train_No_image( net , train_iter , test_iter , num_epochs , lr , d2l.try_gpu(  ) )"
   ],
   "outputs": [
    {
     "output_type": "stream",
     "name": "stdout",
     "text": [
      "training on  cuda:0\n",
      "num_batch:312 , avg_loss:0.99 , avg_accuracy:0.63\n",
      "num_batch:624 , avg_loss:0.80 , avg_accuracy:0.71\n",
      "num_batch:936 , avg_loss:0.69 , avg_accuracy:0.74\n",
      "num_batch:938 , avg_loss:0.69 , avg_accuracy:0.74\n",
      "epochs:0 ,test_acc:0.73 \n"
     ]
    },
    {
     "output_type": "error",
     "ename": "KeyboardInterrupt",
     "evalue": "",
     "traceback": [
      "\u001b[1;31m---------------------------------------------------------------------------\u001b[0m",
      "\u001b[1;31mKeyboardInterrupt\u001b[0m                         Traceback (most recent call last)",
      "\u001b[1;32mC:\\Users\\Public\\Documents\\Wondershare\\CreatorTemp/ipykernel_4992/2906486010.py\u001b[0m in \u001b[0;36m<module>\u001b[1;34m\u001b[0m\n\u001b[0;32m      1\u001b[0m \u001b[0mlr\u001b[0m \u001b[1;33m,\u001b[0m \u001b[0mnum_epochs\u001b[0m \u001b[1;33m,\u001b[0m \u001b[0mbatch_size\u001b[0m \u001b[1;33m=\u001b[0m \u001b[1;36m0.01\u001b[0m\u001b[1;33m,\u001b[0m\u001b[1;36m10\u001b[0m\u001b[1;33m,\u001b[0m\u001b[1;36m64\u001b[0m\u001b[1;33m\u001b[0m\u001b[1;33m\u001b[0m\u001b[0m\n\u001b[0;32m      2\u001b[0m \u001b[0mtrain_iter\u001b[0m \u001b[1;33m,\u001b[0m \u001b[0mtest_iter\u001b[0m \u001b[1;33m=\u001b[0m \u001b[0md2l\u001b[0m\u001b[1;33m.\u001b[0m\u001b[0mload_data_fashion_mnist\u001b[0m\u001b[1;33m(\u001b[0m \u001b[0mbatch_size\u001b[0m\u001b[1;33m=\u001b[0m\u001b[0mbatch_size\u001b[0m \u001b[1;33m,\u001b[0m \u001b[0mresize\u001b[0m\u001b[1;33m=\u001b[0m\u001b[1;36m224\u001b[0m \u001b[1;33m)\u001b[0m\u001b[1;33m\u001b[0m\u001b[1;33m\u001b[0m\u001b[0m\n\u001b[1;32m----> 3\u001b[1;33m \u001b[0md2l\u001b[0m\u001b[1;33m.\u001b[0m\u001b[0mtrain_No_image\u001b[0m\u001b[1;33m(\u001b[0m \u001b[0mnet\u001b[0m \u001b[1;33m,\u001b[0m \u001b[0mtrain_iter\u001b[0m \u001b[1;33m,\u001b[0m \u001b[0mtest_iter\u001b[0m \u001b[1;33m,\u001b[0m \u001b[0mnum_epochs\u001b[0m \u001b[1;33m,\u001b[0m \u001b[0mlr\u001b[0m \u001b[1;33m,\u001b[0m \u001b[0md2l\u001b[0m\u001b[1;33m.\u001b[0m\u001b[0mtry_gpu\u001b[0m\u001b[1;33m(\u001b[0m  \u001b[1;33m)\u001b[0m \u001b[1;33m)\u001b[0m\u001b[1;33m\u001b[0m\u001b[1;33m\u001b[0m\u001b[0m\n\u001b[0m",
      "\u001b[1;32mD:\\CONDA\\envs\\d2l\\lib\\site-packages\\d2l\\torch.py\u001b[0m in \u001b[0;36mtrain_No_image\u001b[1;34m(net, train_iter, test_iter, num_epochs, lr, device, num_print)\u001b[0m\n\u001b[0;32m    534\u001b[0m             \u001b[0moptimzer\u001b[0m\u001b[1;33m.\u001b[0m\u001b[0mstep\u001b[0m\u001b[1;33m(\u001b[0m\u001b[1;33m)\u001b[0m\u001b[1;33m\u001b[0m\u001b[1;33m\u001b[0m\u001b[0m\n\u001b[0;32m    535\u001b[0m             \u001b[1;32mwith\u001b[0m \u001b[0mtorch\u001b[0m\u001b[1;33m.\u001b[0m\u001b[0mno_grad\u001b[0m\u001b[1;33m(\u001b[0m\u001b[1;33m)\u001b[0m\u001b[1;33m:\u001b[0m\u001b[1;33m\u001b[0m\u001b[1;33m\u001b[0m\u001b[0m\n\u001b[1;32m--> 536\u001b[1;33m                 \u001b[0mmetrics\u001b[0m\u001b[1;33m.\u001b[0m\u001b[0madd\u001b[0m\u001b[1;33m(\u001b[0m \u001b[0ml\u001b[0m\u001b[1;33m*\u001b[0m\u001b[0mX\u001b[0m\u001b[1;33m.\u001b[0m\u001b[0mshape\u001b[0m\u001b[1;33m[\u001b[0m\u001b[1;36m0\u001b[0m\u001b[1;33m]\u001b[0m \u001b[1;33m,\u001b[0m \u001b[0md2l\u001b[0m\u001b[1;33m.\u001b[0m\u001b[0maccuracy\u001b[0m\u001b[1;33m(\u001b[0m \u001b[0my_hat\u001b[0m \u001b[1;33m,\u001b[0m \u001b[0my\u001b[0m \u001b[1;33m)\u001b[0m \u001b[1;33m,\u001b[0m  \u001b[0my\u001b[0m\u001b[1;33m.\u001b[0m\u001b[0mnumel\u001b[0m\u001b[1;33m(\u001b[0m\u001b[1;33m)\u001b[0m \u001b[1;33m)\u001b[0m\u001b[1;33m\u001b[0m\u001b[1;33m\u001b[0m\u001b[0m\n\u001b[0m\u001b[0;32m    537\u001b[0m             \u001b[0mtrain_loss\u001b[0m \u001b[1;33m=\u001b[0m \u001b[0mmetrics\u001b[0m\u001b[1;33m[\u001b[0m\u001b[1;36m0\u001b[0m\u001b[1;33m]\u001b[0m\u001b[1;33m/\u001b[0m\u001b[0mmetrics\u001b[0m\u001b[1;33m[\u001b[0m\u001b[1;36m2\u001b[0m\u001b[1;33m]\u001b[0m\u001b[1;33m\u001b[0m\u001b[1;33m\u001b[0m\u001b[0m\n\u001b[0;32m    538\u001b[0m             \u001b[0mtrain_acc\u001b[0m  \u001b[1;33m=\u001b[0m \u001b[0mmetrics\u001b[0m\u001b[1;33m[\u001b[0m\u001b[1;36m1\u001b[0m\u001b[1;33m]\u001b[0m\u001b[1;33m/\u001b[0m\u001b[0mmetrics\u001b[0m\u001b[1;33m[\u001b[0m\u001b[1;36m2\u001b[0m\u001b[1;33m]\u001b[0m\u001b[1;33m\u001b[0m\u001b[1;33m\u001b[0m\u001b[0m\n",
      "\u001b[1;32mD:\\CONDA\\envs\\d2l\\lib\\site-packages\\d2l\\torch.py\u001b[0m in \u001b[0;36maccuracy\u001b[1;34m(y_hat, y)\u001b[0m\n\u001b[0;32m    224\u001b[0m         \u001b[0my_hat\u001b[0m \u001b[1;33m=\u001b[0m \u001b[0md2l\u001b[0m\u001b[1;33m.\u001b[0m\u001b[0margmax\u001b[0m\u001b[1;33m(\u001b[0m\u001b[0my_hat\u001b[0m\u001b[1;33m,\u001b[0m \u001b[0maxis\u001b[0m\u001b[1;33m=\u001b[0m\u001b[1;36m1\u001b[0m\u001b[1;33m)\u001b[0m\u001b[1;33m\u001b[0m\u001b[1;33m\u001b[0m\u001b[0m\n\u001b[0;32m    225\u001b[0m     \u001b[0mcmp\u001b[0m \u001b[1;33m=\u001b[0m \u001b[0md2l\u001b[0m\u001b[1;33m.\u001b[0m\u001b[0mastype\u001b[0m\u001b[1;33m(\u001b[0m\u001b[0my_hat\u001b[0m\u001b[1;33m,\u001b[0m \u001b[0my\u001b[0m\u001b[1;33m.\u001b[0m\u001b[0mdtype\u001b[0m\u001b[1;33m)\u001b[0m \u001b[1;33m==\u001b[0m \u001b[0my\u001b[0m\u001b[1;33m\u001b[0m\u001b[1;33m\u001b[0m\u001b[0m\n\u001b[1;32m--> 226\u001b[1;33m     \u001b[1;32mreturn\u001b[0m \u001b[0mfloat\u001b[0m\u001b[1;33m(\u001b[0m\u001b[0md2l\u001b[0m\u001b[1;33m.\u001b[0m\u001b[0mreduce_sum\u001b[0m\u001b[1;33m(\u001b[0m\u001b[0md2l\u001b[0m\u001b[1;33m.\u001b[0m\u001b[0mastype\u001b[0m\u001b[1;33m(\u001b[0m\u001b[0mcmp\u001b[0m\u001b[1;33m,\u001b[0m \u001b[0my\u001b[0m\u001b[1;33m.\u001b[0m\u001b[0mdtype\u001b[0m\u001b[1;33m)\u001b[0m\u001b[1;33m)\u001b[0m\u001b[1;33m)\u001b[0m\u001b[1;33m\u001b[0m\u001b[1;33m\u001b[0m\u001b[0m\n\u001b[0m\u001b[0;32m    227\u001b[0m \u001b[1;33m\u001b[0m\u001b[0m\n\u001b[0;32m    228\u001b[0m \u001b[1;33m\u001b[0m\u001b[0m\n",
      "\u001b[1;31mKeyboardInterrupt\u001b[0m: "
     ]
    }
   ],
   "metadata": {}
  }
 ],
 "metadata": {
  "orig_nbformat": 4,
  "language_info": {
   "name": "python",
   "version": "3.7.10",
   "mimetype": "text/x-python",
   "codemirror_mode": {
    "name": "ipython",
    "version": 3
   },
   "pygments_lexer": "ipython3",
   "nbconvert_exporter": "python",
   "file_extension": ".py"
  },
  "kernelspec": {
   "name": "python3",
   "display_name": "Python 3.7.10 64-bit ('d2l': conda)"
  },
  "interpreter": {
   "hash": "4e3237dc568d8c012c4be0ad63f07931f6897ff43d3b726284ebc51bc8854128"
  }
 },
 "nbformat": 4,
 "nbformat_minor": 2
}