{
 "cells": [
  {
   "cell_type": "code",
   "execution_count": 1,
   "source": [
    "import torch\r\n",
    "from torch import nn\r\n",
    "from d2l import torch as d2l"
   ],
   "outputs": [],
   "metadata": {}
  },
  {
   "cell_type": "code",
   "execution_count": null,
   "source": [
    "class LeNet( nn.Module ):\r\n",
    "    def __init__( self ):\r\n",
    "        super().__init__()\r\n",
    "        self.layer1  = nn.Sequential( nn.Conv2d( 1,6,kernel_size=5 , padding=2) , nn.Sigmoid() , \r\n",
    "                                    nn.AvgPool2d( kernel_size=2 ,stride=2 )  )\r\n",
    "        self.layer2 = nn.Sequential( nn.Conv2d( 6, 16 ,kernel_size=5 ) , nn.Sigmoid() ,\r\n",
    "                                    nn.AvgPool2d( kernel_size=2 , stride=2 ) ,nn.Flatten() )\r\n",
    "        self.linear1 = nn.Sequential( nn.Linear( 400 , 120 ) ,nn.Sigmoid())\r\n",
    "        self.linear2 = nn.Sequential( nn.Linear(120 , 84) ,nn.Sigmoid())\r\n",
    "        self.linear3 = nn.Linear( 84 , 10 )\r\n",
    "    def forward( self  , x ):\r\n",
    "\r\n",
    "        x = self.layer1( x )\r\n",
    "        x = self.layer2( x )\r\n",
    "        x = x.reshape( -1, 400 )\r\n",
    "        x = self.linear1(x)\r\n",
    "        x = self.linear2(x)\r\n",
    "        x = self.linear3(x)\r\n",
    "        return x "
   ],
   "outputs": [],
   "metadata": {}
  },
  {
   "cell_type": "code",
   "execution_count": null,
   "source": [
    "net = LeNet()"
   ],
   "outputs": [],
   "metadata": {}
  },
  {
   "cell_type": "code",
   "execution_count": null,
   "source": [
    "x =torch.rand(1,1,28,28)\r\n",
    "net(x)"
   ],
   "outputs": [],
   "metadata": {}
  },
  {
   "cell_type": "code",
   "execution_count": 2,
   "source": [
    "batch_size = 256\r\n",
    "train_iter , test_iter = d2l.load_data_fashion_mnist( batch_size )"
   ],
   "outputs": [],
   "metadata": {}
  },
  {
   "cell_type": "code",
   "execution_count": null,
   "source": [
    "\r\n",
    "loss = nn.CrossEntropyLoss()\r\n",
    "trainer = torch.optim.Adam( net.parameters() , 0.01)"
   ],
   "outputs": [],
   "metadata": {}
  },
  {
   "cell_type": "code",
   "execution_count": null,
   "source": [
    "def train( net , train_iter ,  loss , trainer , num_epochs ):\r\n",
    "    net.train()\r\n",
    "    for epoch in range( num_epochs ):\r\n",
    "        for X,y in train_iter:\r\n",
    "            y_hat = net( X )\r\n",
    "            # print(y_hat)\r\n",
    "            trainer.zero_grad()\r\n",
    "            l = loss( y_hat , y )\r\n",
    "            l.backward()\r\n",
    "            trainer.step()\r\n",
    "        # for test_x , test_y in test_iter:\r\n",
    "        #     count = \r\n",
    "        # if (epoch+1) % 5 == 0:\r\n",
    "        print( f'epoch:{epoch}, loss:{l.sum()} ')"
   ],
   "outputs": [],
   "metadata": {}
  },
  {
   "cell_type": "code",
   "execution_count": null,
   "source": [
    "train( net , train_iter , loss , trainer , 10 )"
   ],
   "outputs": [],
   "metadata": {}
  },
  {
   "cell_type": "markdown",
   "source": [
    "## 书中代码仿写"
   ],
   "metadata": {}
  },
  {
   "cell_type": "code",
   "execution_count": 8,
   "source": [
    "import torch\r\n",
    "from torch import nn\r\n",
    "from d2l import torch as d2l"
   ],
   "outputs": [],
   "metadata": {}
  },
  {
   "cell_type": "code",
   "execution_count": 9,
   "source": [
    "lenet = nn.Sequential( \r\n",
    "                    nn.Conv2d( 1,6,kernel_size=5 , padding=2 ),nn.Sigmoid(),\r\n",
    "                    nn.AvgPool2d(kernel_size=2 , stride=2 ),\r\n",
    "                    nn.Conv2d( 6 , 16 ,kernel_size=5 ),nn.Sigmoid(),\r\n",
    "                    nn.AvgPool2d(2,2),\r\n",
    "                    nn.Flatten(),\r\n",
    "                    nn.Linear( 400,120 ),nn.Sigmoid(),\r\n",
    "                    nn.Linear(120,84),nn.Sigmoid(),\r\n",
    "                    nn.Linear(84 , 10 )\r\n",
    "                    )"
   ],
   "outputs": [],
   "metadata": {}
  },
  {
   "cell_type": "code",
   "execution_count": 10,
   "source": [
    "batch_size = 256\r\n",
    "train_iter , test_iter = d2l.load_data_fashion_mnist( batch_size )"
   ],
   "outputs": [],
   "metadata": {}
  },
  {
   "cell_type": "code",
   "execution_count": 11,
   "source": [
    "x = torch.rand( 1,1,28,28)\r\n",
    "for layer in lenet:\r\n",
    "    x = layer(x)\r\n",
    "    print( layer.__class__.__name__ , 'outsize:',x.shape )"
   ],
   "outputs": [
    {
     "output_type": "stream",
     "name": "stdout",
     "text": [
      "Conv2d outsize: torch.Size([1, 6, 28, 28])\n",
      "Sigmoid outsize: torch.Size([1, 6, 28, 28])\n",
      "AvgPool2d outsize: torch.Size([1, 6, 14, 14])\n",
      "Conv2d outsize: torch.Size([1, 16, 10, 10])\n",
      "Sigmoid outsize: torch.Size([1, 16, 10, 10])\n",
      "AvgPool2d outsize: torch.Size([1, 16, 5, 5])\n",
      "Flatten outsize: torch.Size([1, 400])\n",
      "Linear outsize: torch.Size([1, 120])\n",
      "Sigmoid outsize: torch.Size([1, 120])\n",
      "Linear outsize: torch.Size([1, 84])\n",
      "Sigmoid outsize: torch.Size([1, 84])\n",
      "Linear outsize: torch.Size([1, 10])\n"
     ]
    }
   ],
   "metadata": {}
  },
  {
   "cell_type": "code",
   "execution_count": 12,
   "source": [
    "def try_gpu( i =0):\r\n",
    "    if torch.cuda.device_count() >= i+1:\r\n",
    "        return torch.device(f'cuda:{i}')\r\n",
    "    return torch.device('cpu')\r\n",
    "def accruay( y_hat , y ):\r\n",
    "    if len(y_hat.shape) > 1 and y_hat.shape[1] > 1:\r\n",
    "        y_hat = torch.argmax( y_hat , dim=1 )#搞出每一行的的最大值\r\n",
    "    count = y_hat.type( y.dtype ) == y \r\n",
    "    return float( count.type( y.dtype).sum())"
   ],
   "outputs": [],
   "metadata": {}
  },
  {
   "cell_type": "code",
   "execution_count": 35,
   "source": [
    "def evaluate_accuracy_gpu( net , data_iter ,device = None ):\r\n",
    "    if isinstance( net , nn.Module ):\r\n",
    "        net.eval()#评估模式\r\n",
    "        if not device:\r\n",
    "            device = next( iter( net.parameters() ) ).device\r\n",
    "    metrics = d2l.Accumulator(2)\r\n",
    "    for X,y in data_iter:\r\n",
    "        X = X.to( device )#将数据迁移到GPU\r\n",
    "        y = y.to( device )\r\n",
    "        metrics.add( d2l.accuracy( net( X )  , y ) , y.numel())#将一个批次的数据的准确个数和样本个数进行累加\r\n",
    "    return metrics[0]/metrics[1]"
   ],
   "outputs": [],
   "metadata": {}
  },
  {
   "cell_type": "code",
   "execution_count": 42,
   "source": [
    "def train_ch6( net ,  train_iter,test_iter , lr, num_epochs , device ):\r\n",
    "    #使用GPU训练模型,这个函数是将loss,train_acc,test_acc统统打印出来并绘制成图像的函数\r\n",
    "    #第一步：初始化\r\n",
    "    def init_weight( m ):\r\n",
    "        if type(m) == nn.Linear or type( m ) == nn.Conv2d:\r\n",
    "            nn.init.xavier_uniform_( m.weight )#原地初始化权值\r\n",
    "    net.apply( init_weight )#递归调用每一层，将每一层送到函数内部\r\n",
    "    print('train on ', device )\r\n",
    "    net.to( device )#将网络的参数载入到gpu当中\r\n",
    "    #第二步目标函数，优化器初始化\r\n",
    "    loss = nn.CrossEntropyLoss()\r\n",
    "    optimizer = torch.optim.Adam( net.parameters() , lr= lr )\r\n",
    "    #第三步，初始化绘图实例\r\n",
    "    animator = d2l.Animator( xlabel= 'epochs' , xlim=[1, num_epochs] ,\r\n",
    "                            legend=[ 'train loss' , 'train acc' , 'test acc'] )\r\n",
    "    timer , num_batch = d2l.Timer() , len( train_iter )#我们可以转到定义去查看d2l.Timer()的类内部，会发现轮子已经造好，并且十分精妙,比如说\r\n",
    "                                                       #这个类将start和stop封装在一起，并且使用类的stop方法time.stop()-time.start()这个\r\n",
    "                                                       #运行时间装入一个列表里，之后调用类中的sum方法对全部时间进行一个求和。\r\n",
    "    for epoch in range( num_epochs ):\r\n",
    "        #训练损失之和，训练准确率之和，总样本数\r\n",
    "        metrics = d2l.Accumulator( 3 )\r\n",
    "        net.train()\r\n",
    "        for i,( X,y ) in enumerate( train_iter ) :\r\n",
    "            timer.start()#开始计时\r\n",
    "            optimizer.zero_grad()#清除梯度\r\n",
    "            X , y = X.to( device ) , y.to( device )\r\n",
    "            y_hat = net( X )\r\n",
    "            l = loss( y_hat , y )\r\n",
    "            l.backward()#这里之所以没求sum的原因是因为在CrossEntropyLoss已经帮我们做好了，而且这个类里还做了softmax,还做了batch_size尺度的\r\n",
    "                        #损失函数平均，很强大\r\n",
    "            optimizer.step()\r\n",
    "            with torch.no_grad():\r\n",
    "                metrics.add(l * X.shape[0], d2l.accuracy(y_hat, y), X.shape[0])\r\n",
    "                #将一个批次的总loss，这里乘以批次的原因就是得到总loss，\r\n",
    "                #一个批次的准确个数，一个批次的样本个数进行累加，得到样本尺度或者说多个批次数据大小的总loss.总准确个数，总样本数\r\n",
    "            timer.stop()#此时，我们将运行时间载入到了timer类中的实例变量列表当中\r\n",
    "            train_loss = metrics[0] / metrics[2]#得到了多个批次大小的平均损失\r\n",
    "            train_acc = metrics[1]  /metrics[2]#得到了平均准确率\r\n",
    "            if (i + 1) % (num_batch // 5) == 0 or i == num_batch - 1:\r\n",
    "                animator.add(epoch + (i + 1) / num_batch,\r\n",
    "                             (train_loss, train_acc, None))#第一个变量为x轴，第二个为y轴\r\n",
    "        test_acc =  evaluate_accuracy_gpu( net , test_iter )\r\n",
    "        animator.add( epoch+1 ,  ( None ,None , test_acc ) )\r\n",
    "    print( f'epoch:{epoch+1} , loss:{train_loss:2f} , train_acc:{train_acc:2f} , test_acc:{test_acc:2f}')\r\n",
    "    print( f'{ metrics[2]*num_epochs / timer.sum():2f} on {device}')    "
   ],
   "outputs": [],
   "metadata": {}
  },
  {
   "cell_type": "code",
   "execution_count": 44,
   "source": [
    "lr , num_epochs = 0.01 , 15\r\n",
    "train_ch6( lenet , train_iter , test_iter , lr , num_epochs , try_gpu() )"
   ],
   "outputs": [
    {
     "output_type": "stream",
     "name": "stdout",
     "text": [
      "epoch:15 , loss:0.245046 , train_acc:0.908200 , test_acc:0.890200\n",
      "17699.460552 on cuda:0\n"
     ]
    },
    {
     "output_type": "display_data",
     "data": {
      "image/svg+xml": "<?xml version=\"1.0\" encoding=\"utf-8\" standalone=\"no\"?>\r\n<!DOCTYPE svg PUBLIC \"-//W3C//DTD SVG 1.1//EN\"\r\n  \"http://www.w3.org/Graphics/SVG/1.1/DTD/svg11.dtd\">\r\n<svg height=\"180.65625pt\" version=\"1.1\" viewBox=\"0 0 243.735938 180.65625\" width=\"243.735938pt\" xmlns=\"http://www.w3.org/2000/svg\" xmlns:xlink=\"http://www.w3.org/1999/xlink\">\r\n <metadata>\r\n  <rdf:RDF xmlns:cc=\"http://creativecommons.org/ns#\" xmlns:dc=\"http://purl.org/dc/elements/1.1/\" xmlns:rdf=\"http://www.w3.org/1999/02/22-rdf-syntax-ns#\">\r\n   <cc:Work>\r\n    <dc:type rdf:resource=\"http://purl.org/dc/dcmitype/StillImage\"/>\r\n    <dc:date>2021-09-13T21:37:38.424224</dc:date>\r\n    <dc:format>image/svg+xml</dc:format>\r\n    <dc:creator>\r\n     <cc:Agent>\r\n      <dc:title>Matplotlib v3.4.3, https://matplotlib.org/</dc:title>\r\n     </cc:Agent>\r\n    </dc:creator>\r\n   </cc:Work>\r\n  </rdf:RDF>\r\n </metadata>\r\n <defs>\r\n  <style type=\"text/css\">*{stroke-linecap:butt;stroke-linejoin:round;}</style>\r\n </defs>\r\n <g id=\"figure_1\">\r\n  <g id=\"patch_1\">\r\n   <path d=\"M 0 180.65625 \r\nL 243.735938 180.65625 \r\nL 243.735938 0 \r\nL 0 0 \r\nz\r\n\" style=\"fill:none;\"/>\r\n  </g>\r\n  <g id=\"axes_1\">\r\n   <g id=\"patch_2\">\r\n    <path d=\"M 30.103125 143.1 \r\nL 225.403125 143.1 \r\nL 225.403125 7.2 \r\nL 30.103125 7.2 \r\nz\r\n\" style=\"fill:#ffffff;\"/>\r\n   </g>\r\n   <g id=\"matplotlib.axis_1\">\r\n    <g id=\"xtick_1\">\r\n     <g id=\"line2d_1\">\r\n      <path clip-path=\"url(#p453626d57b)\" d=\"M 51.028125 143.1 \r\nL 51.028125 7.2 \r\n\" style=\"fill:none;stroke:#b0b0b0;stroke-linecap:square;stroke-width:0.8;\"/>\r\n     </g>\r\n     <g id=\"line2d_2\">\r\n      <defs>\r\n       <path d=\"M 0 0 \r\nL 0 3.5 \r\n\" id=\"m685d807d41\" style=\"stroke:#000000;stroke-width:0.8;\"/>\r\n      </defs>\r\n      <g>\r\n       <use style=\"stroke:#000000;stroke-width:0.8;\" x=\"51.028125\" xlink:href=\"#m685d807d41\" y=\"143.1\"/>\r\n      </g>\r\n     </g>\r\n     <g id=\"text_1\">\r\n      <!-- 2.5 -->\r\n      <g transform=\"translate(43.076563 157.698438)scale(0.1 -0.1)\">\r\n       <defs>\r\n        <path d=\"M 1228 531 \r\nL 3431 531 \r\nL 3431 0 \r\nL 469 0 \r\nL 469 531 \r\nQ 828 903 1448 1529 \r\nQ 2069 2156 2228 2338 \r\nQ 2531 2678 2651 2914 \r\nQ 2772 3150 2772 3378 \r\nQ 2772 3750 2511 3984 \r\nQ 2250 4219 1831 4219 \r\nQ 1534 4219 1204 4116 \r\nQ 875 4013 500 3803 \r\nL 500 4441 \r\nQ 881 4594 1212 4672 \r\nQ 1544 4750 1819 4750 \r\nQ 2544 4750 2975 4387 \r\nQ 3406 4025 3406 3419 \r\nQ 3406 3131 3298 2873 \r\nQ 3191 2616 2906 2266 \r\nQ 2828 2175 2409 1742 \r\nQ 1991 1309 1228 531 \r\nz\r\n\" id=\"DejaVuSans-32\" transform=\"scale(0.015625)\"/>\r\n        <path d=\"M 684 794 \r\nL 1344 794 \r\nL 1344 0 \r\nL 684 0 \r\nL 684 794 \r\nz\r\n\" id=\"DejaVuSans-2e\" transform=\"scale(0.015625)\"/>\r\n        <path d=\"M 691 4666 \r\nL 3169 4666 \r\nL 3169 4134 \r\nL 1269 4134 \r\nL 1269 2991 \r\nQ 1406 3038 1543 3061 \r\nQ 1681 3084 1819 3084 \r\nQ 2600 3084 3056 2656 \r\nQ 3513 2228 3513 1497 \r\nQ 3513 744 3044 326 \r\nQ 2575 -91 1722 -91 \r\nQ 1428 -91 1123 -41 \r\nQ 819 9 494 109 \r\nL 494 744 \r\nQ 775 591 1075 516 \r\nQ 1375 441 1709 441 \r\nQ 2250 441 2565 725 \r\nQ 2881 1009 2881 1497 \r\nQ 2881 1984 2565 2268 \r\nQ 2250 2553 1709 2553 \r\nQ 1456 2553 1204 2497 \r\nQ 953 2441 691 2322 \r\nL 691 4666 \r\nz\r\n\" id=\"DejaVuSans-35\" transform=\"scale(0.015625)\"/>\r\n       </defs>\r\n       <use xlink:href=\"#DejaVuSans-32\"/>\r\n       <use x=\"63.623047\" xlink:href=\"#DejaVuSans-2e\"/>\r\n       <use x=\"95.410156\" xlink:href=\"#DejaVuSans-35\"/>\r\n      </g>\r\n     </g>\r\n    </g>\r\n    <g id=\"xtick_2\">\r\n     <g id=\"line2d_3\">\r\n      <path clip-path=\"url(#p453626d57b)\" d=\"M 85.903125 143.1 \r\nL 85.903125 7.2 \r\n\" style=\"fill:none;stroke:#b0b0b0;stroke-linecap:square;stroke-width:0.8;\"/>\r\n     </g>\r\n     <g id=\"line2d_4\">\r\n      <g>\r\n       <use style=\"stroke:#000000;stroke-width:0.8;\" x=\"85.903125\" xlink:href=\"#m685d807d41\" y=\"143.1\"/>\r\n      </g>\r\n     </g>\r\n     <g id=\"text_2\">\r\n      <!-- 5.0 -->\r\n      <g transform=\"translate(77.951563 157.698438)scale(0.1 -0.1)\">\r\n       <defs>\r\n        <path d=\"M 2034 4250 \r\nQ 1547 4250 1301 3770 \r\nQ 1056 3291 1056 2328 \r\nQ 1056 1369 1301 889 \r\nQ 1547 409 2034 409 \r\nQ 2525 409 2770 889 \r\nQ 3016 1369 3016 2328 \r\nQ 3016 3291 2770 3770 \r\nQ 2525 4250 2034 4250 \r\nz\r\nM 2034 4750 \r\nQ 2819 4750 3233 4129 \r\nQ 3647 3509 3647 2328 \r\nQ 3647 1150 3233 529 \r\nQ 2819 -91 2034 -91 \r\nQ 1250 -91 836 529 \r\nQ 422 1150 422 2328 \r\nQ 422 3509 836 4129 \r\nQ 1250 4750 2034 4750 \r\nz\r\n\" id=\"DejaVuSans-30\" transform=\"scale(0.015625)\"/>\r\n       </defs>\r\n       <use xlink:href=\"#DejaVuSans-35\"/>\r\n       <use x=\"63.623047\" xlink:href=\"#DejaVuSans-2e\"/>\r\n       <use x=\"95.410156\" xlink:href=\"#DejaVuSans-30\"/>\r\n      </g>\r\n     </g>\r\n    </g>\r\n    <g id=\"xtick_3\">\r\n     <g id=\"line2d_5\">\r\n      <path clip-path=\"url(#p453626d57b)\" d=\"M 120.778125 143.1 \r\nL 120.778125 7.2 \r\n\" style=\"fill:none;stroke:#b0b0b0;stroke-linecap:square;stroke-width:0.8;\"/>\r\n     </g>\r\n     <g id=\"line2d_6\">\r\n      <g>\r\n       <use style=\"stroke:#000000;stroke-width:0.8;\" x=\"120.778125\" xlink:href=\"#m685d807d41\" y=\"143.1\"/>\r\n      </g>\r\n     </g>\r\n     <g id=\"text_3\">\r\n      <!-- 7.5 -->\r\n      <g transform=\"translate(112.826563 157.698438)scale(0.1 -0.1)\">\r\n       <defs>\r\n        <path d=\"M 525 4666 \r\nL 3525 4666 \r\nL 3525 4397 \r\nL 1831 0 \r\nL 1172 0 \r\nL 2766 4134 \r\nL 525 4134 \r\nL 525 4666 \r\nz\r\n\" id=\"DejaVuSans-37\" transform=\"scale(0.015625)\"/>\r\n       </defs>\r\n       <use xlink:href=\"#DejaVuSans-37\"/>\r\n       <use x=\"63.623047\" xlink:href=\"#DejaVuSans-2e\"/>\r\n       <use x=\"95.410156\" xlink:href=\"#DejaVuSans-35\"/>\r\n      </g>\r\n     </g>\r\n    </g>\r\n    <g id=\"xtick_4\">\r\n     <g id=\"line2d_7\">\r\n      <path clip-path=\"url(#p453626d57b)\" d=\"M 155.653125 143.1 \r\nL 155.653125 7.2 \r\n\" style=\"fill:none;stroke:#b0b0b0;stroke-linecap:square;stroke-width:0.8;\"/>\r\n     </g>\r\n     <g id=\"line2d_8\">\r\n      <g>\r\n       <use style=\"stroke:#000000;stroke-width:0.8;\" x=\"155.653125\" xlink:href=\"#m685d807d41\" y=\"143.1\"/>\r\n      </g>\r\n     </g>\r\n     <g id=\"text_4\">\r\n      <!-- 10.0 -->\r\n      <g transform=\"translate(144.520312 157.698438)scale(0.1 -0.1)\">\r\n       <defs>\r\n        <path d=\"M 794 531 \r\nL 1825 531 \r\nL 1825 4091 \r\nL 703 3866 \r\nL 703 4441 \r\nL 1819 4666 \r\nL 2450 4666 \r\nL 2450 531 \r\nL 3481 531 \r\nL 3481 0 \r\nL 794 0 \r\nL 794 531 \r\nz\r\n\" id=\"DejaVuSans-31\" transform=\"scale(0.015625)\"/>\r\n       </defs>\r\n       <use xlink:href=\"#DejaVuSans-31\"/>\r\n       <use x=\"63.623047\" xlink:href=\"#DejaVuSans-30\"/>\r\n       <use x=\"127.246094\" xlink:href=\"#DejaVuSans-2e\"/>\r\n       <use x=\"159.033203\" xlink:href=\"#DejaVuSans-30\"/>\r\n      </g>\r\n     </g>\r\n    </g>\r\n    <g id=\"xtick_5\">\r\n     <g id=\"line2d_9\">\r\n      <path clip-path=\"url(#p453626d57b)\" d=\"M 190.528125 143.1 \r\nL 190.528125 7.2 \r\n\" style=\"fill:none;stroke:#b0b0b0;stroke-linecap:square;stroke-width:0.8;\"/>\r\n     </g>\r\n     <g id=\"line2d_10\">\r\n      <g>\r\n       <use style=\"stroke:#000000;stroke-width:0.8;\" x=\"190.528125\" xlink:href=\"#m685d807d41\" y=\"143.1\"/>\r\n      </g>\r\n     </g>\r\n     <g id=\"text_5\">\r\n      <!-- 12.5 -->\r\n      <g transform=\"translate(179.395312 157.698438)scale(0.1 -0.1)\">\r\n       <use xlink:href=\"#DejaVuSans-31\"/>\r\n       <use x=\"63.623047\" xlink:href=\"#DejaVuSans-32\"/>\r\n       <use x=\"127.246094\" xlink:href=\"#DejaVuSans-2e\"/>\r\n       <use x=\"159.033203\" xlink:href=\"#DejaVuSans-35\"/>\r\n      </g>\r\n     </g>\r\n    </g>\r\n    <g id=\"xtick_6\">\r\n     <g id=\"line2d_11\">\r\n      <path clip-path=\"url(#p453626d57b)\" d=\"M 225.403125 143.1 \r\nL 225.403125 7.2 \r\n\" style=\"fill:none;stroke:#b0b0b0;stroke-linecap:square;stroke-width:0.8;\"/>\r\n     </g>\r\n     <g id=\"line2d_12\">\r\n      <g>\r\n       <use style=\"stroke:#000000;stroke-width:0.8;\" x=\"225.403125\" xlink:href=\"#m685d807d41\" y=\"143.1\"/>\r\n      </g>\r\n     </g>\r\n     <g id=\"text_6\">\r\n      <!-- 15.0 -->\r\n      <g transform=\"translate(214.270312 157.698438)scale(0.1 -0.1)\">\r\n       <use xlink:href=\"#DejaVuSans-31\"/>\r\n       <use x=\"63.623047\" xlink:href=\"#DejaVuSans-35\"/>\r\n       <use x=\"127.246094\" xlink:href=\"#DejaVuSans-2e\"/>\r\n       <use x=\"159.033203\" xlink:href=\"#DejaVuSans-30\"/>\r\n      </g>\r\n     </g>\r\n    </g>\r\n    <g id=\"text_7\">\r\n     <!-- epochs -->\r\n     <g transform=\"translate(109.920313 171.376563)scale(0.1 -0.1)\">\r\n      <defs>\r\n       <path d=\"M 3597 1894 \r\nL 3597 1613 \r\nL 953 1613 \r\nQ 991 1019 1311 708 \r\nQ 1631 397 2203 397 \r\nQ 2534 397 2845 478 \r\nQ 3156 559 3463 722 \r\nL 3463 178 \r\nQ 3153 47 2828 -22 \r\nQ 2503 -91 2169 -91 \r\nQ 1331 -91 842 396 \r\nQ 353 884 353 1716 \r\nQ 353 2575 817 3079 \r\nQ 1281 3584 2069 3584 \r\nQ 2775 3584 3186 3129 \r\nQ 3597 2675 3597 1894 \r\nz\r\nM 3022 2063 \r\nQ 3016 2534 2758 2815 \r\nQ 2500 3097 2075 3097 \r\nQ 1594 3097 1305 2825 \r\nQ 1016 2553 972 2059 \r\nL 3022 2063 \r\nz\r\n\" id=\"DejaVuSans-65\" transform=\"scale(0.015625)\"/>\r\n       <path d=\"M 1159 525 \r\nL 1159 -1331 \r\nL 581 -1331 \r\nL 581 3500 \r\nL 1159 3500 \r\nL 1159 2969 \r\nQ 1341 3281 1617 3432 \r\nQ 1894 3584 2278 3584 \r\nQ 2916 3584 3314 3078 \r\nQ 3713 2572 3713 1747 \r\nQ 3713 922 3314 415 \r\nQ 2916 -91 2278 -91 \r\nQ 1894 -91 1617 61 \r\nQ 1341 213 1159 525 \r\nz\r\nM 3116 1747 \r\nQ 3116 2381 2855 2742 \r\nQ 2594 3103 2138 3103 \r\nQ 1681 3103 1420 2742 \r\nQ 1159 2381 1159 1747 \r\nQ 1159 1113 1420 752 \r\nQ 1681 391 2138 391 \r\nQ 2594 391 2855 752 \r\nQ 3116 1113 3116 1747 \r\nz\r\n\" id=\"DejaVuSans-70\" transform=\"scale(0.015625)\"/>\r\n       <path d=\"M 1959 3097 \r\nQ 1497 3097 1228 2736 \r\nQ 959 2375 959 1747 \r\nQ 959 1119 1226 758 \r\nQ 1494 397 1959 397 \r\nQ 2419 397 2687 759 \r\nQ 2956 1122 2956 1747 \r\nQ 2956 2369 2687 2733 \r\nQ 2419 3097 1959 3097 \r\nz\r\nM 1959 3584 \r\nQ 2709 3584 3137 3096 \r\nQ 3566 2609 3566 1747 \r\nQ 3566 888 3137 398 \r\nQ 2709 -91 1959 -91 \r\nQ 1206 -91 779 398 \r\nQ 353 888 353 1747 \r\nQ 353 2609 779 3096 \r\nQ 1206 3584 1959 3584 \r\nz\r\n\" id=\"DejaVuSans-6f\" transform=\"scale(0.015625)\"/>\r\n       <path d=\"M 3122 3366 \r\nL 3122 2828 \r\nQ 2878 2963 2633 3030 \r\nQ 2388 3097 2138 3097 \r\nQ 1578 3097 1268 2742 \r\nQ 959 2388 959 1747 \r\nQ 959 1106 1268 751 \r\nQ 1578 397 2138 397 \r\nQ 2388 397 2633 464 \r\nQ 2878 531 3122 666 \r\nL 3122 134 \r\nQ 2881 22 2623 -34 \r\nQ 2366 -91 2075 -91 \r\nQ 1284 -91 818 406 \r\nQ 353 903 353 1747 \r\nQ 353 2603 823 3093 \r\nQ 1294 3584 2113 3584 \r\nQ 2378 3584 2631 3529 \r\nQ 2884 3475 3122 3366 \r\nz\r\n\" id=\"DejaVuSans-63\" transform=\"scale(0.015625)\"/>\r\n       <path d=\"M 3513 2113 \r\nL 3513 0 \r\nL 2938 0 \r\nL 2938 2094 \r\nQ 2938 2591 2744 2837 \r\nQ 2550 3084 2163 3084 \r\nQ 1697 3084 1428 2787 \r\nQ 1159 2491 1159 1978 \r\nL 1159 0 \r\nL 581 0 \r\nL 581 4863 \r\nL 1159 4863 \r\nL 1159 2956 \r\nQ 1366 3272 1645 3428 \r\nQ 1925 3584 2291 3584 \r\nQ 2894 3584 3203 3211 \r\nQ 3513 2838 3513 2113 \r\nz\r\n\" id=\"DejaVuSans-68\" transform=\"scale(0.015625)\"/>\r\n       <path d=\"M 2834 3397 \r\nL 2834 2853 \r\nQ 2591 2978 2328 3040 \r\nQ 2066 3103 1784 3103 \r\nQ 1356 3103 1142 2972 \r\nQ 928 2841 928 2578 \r\nQ 928 2378 1081 2264 \r\nQ 1234 2150 1697 2047 \r\nL 1894 2003 \r\nQ 2506 1872 2764 1633 \r\nQ 3022 1394 3022 966 \r\nQ 3022 478 2636 193 \r\nQ 2250 -91 1575 -91 \r\nQ 1294 -91 989 -36 \r\nQ 684 19 347 128 \r\nL 347 722 \r\nQ 666 556 975 473 \r\nQ 1284 391 1588 391 \r\nQ 1994 391 2212 530 \r\nQ 2431 669 2431 922 \r\nQ 2431 1156 2273 1281 \r\nQ 2116 1406 1581 1522 \r\nL 1381 1569 \r\nQ 847 1681 609 1914 \r\nQ 372 2147 372 2553 \r\nQ 372 3047 722 3315 \r\nQ 1072 3584 1716 3584 \r\nQ 2034 3584 2315 3537 \r\nQ 2597 3491 2834 3397 \r\nz\r\n\" id=\"DejaVuSans-73\" transform=\"scale(0.015625)\"/>\r\n      </defs>\r\n      <use xlink:href=\"#DejaVuSans-65\"/>\r\n      <use x=\"61.523438\" xlink:href=\"#DejaVuSans-70\"/>\r\n      <use x=\"125\" xlink:href=\"#DejaVuSans-6f\"/>\r\n      <use x=\"186.181641\" xlink:href=\"#DejaVuSans-63\"/>\r\n      <use x=\"241.162109\" xlink:href=\"#DejaVuSans-68\"/>\r\n      <use x=\"304.541016\" xlink:href=\"#DejaVuSans-73\"/>\r\n     </g>\r\n    </g>\r\n   </g>\r\n   <g id=\"matplotlib.axis_2\">\r\n    <g id=\"ytick_1\">\r\n     <g id=\"line2d_13\">\r\n      <path clip-path=\"url(#p453626d57b)\" d=\"M 30.103125 118.382037 \r\nL 225.403125 118.382037 \r\n\" style=\"fill:none;stroke:#b0b0b0;stroke-linecap:square;stroke-width:0.8;\"/>\r\n     </g>\r\n     <g id=\"line2d_14\">\r\n      <defs>\r\n       <path d=\"M 0 0 \r\nL -3.5 0 \r\n\" id=\"m0623c7bac1\" style=\"stroke:#000000;stroke-width:0.8;\"/>\r\n      </defs>\r\n      <g>\r\n       <use style=\"stroke:#000000;stroke-width:0.8;\" x=\"30.103125\" xlink:href=\"#m0623c7bac1\" y=\"118.382037\"/>\r\n      </g>\r\n     </g>\r\n     <g id=\"text_8\">\r\n      <!-- 0.5 -->\r\n      <g transform=\"translate(7.2 122.181256)scale(0.1 -0.1)\">\r\n       <use xlink:href=\"#DejaVuSans-30\"/>\r\n       <use x=\"63.623047\" xlink:href=\"#DejaVuSans-2e\"/>\r\n       <use x=\"95.410156\" xlink:href=\"#DejaVuSans-35\"/>\r\n      </g>\r\n     </g>\r\n    </g>\r\n    <g id=\"ytick_2\">\r\n     <g id=\"line2d_15\">\r\n      <path clip-path=\"url(#p453626d57b)\" d=\"M 30.103125 83.666571 \r\nL 225.403125 83.666571 \r\n\" style=\"fill:none;stroke:#b0b0b0;stroke-linecap:square;stroke-width:0.8;\"/>\r\n     </g>\r\n     <g id=\"line2d_16\">\r\n      <g>\r\n       <use style=\"stroke:#000000;stroke-width:0.8;\" x=\"30.103125\" xlink:href=\"#m0623c7bac1\" y=\"83.666571\"/>\r\n      </g>\r\n     </g>\r\n     <g id=\"text_9\">\r\n      <!-- 1.0 -->\r\n      <g transform=\"translate(7.2 87.46579)scale(0.1 -0.1)\">\r\n       <use xlink:href=\"#DejaVuSans-31\"/>\r\n       <use x=\"63.623047\" xlink:href=\"#DejaVuSans-2e\"/>\r\n       <use x=\"95.410156\" xlink:href=\"#DejaVuSans-30\"/>\r\n      </g>\r\n     </g>\r\n    </g>\r\n    <g id=\"ytick_3\">\r\n     <g id=\"line2d_17\">\r\n      <path clip-path=\"url(#p453626d57b)\" d=\"M 30.103125 48.951105 \r\nL 225.403125 48.951105 \r\n\" style=\"fill:none;stroke:#b0b0b0;stroke-linecap:square;stroke-width:0.8;\"/>\r\n     </g>\r\n     <g id=\"line2d_18\">\r\n      <g>\r\n       <use style=\"stroke:#000000;stroke-width:0.8;\" x=\"30.103125\" xlink:href=\"#m0623c7bac1\" y=\"48.951105\"/>\r\n      </g>\r\n     </g>\r\n     <g id=\"text_10\">\r\n      <!-- 1.5 -->\r\n      <g transform=\"translate(7.2 52.750324)scale(0.1 -0.1)\">\r\n       <use xlink:href=\"#DejaVuSans-31\"/>\r\n       <use x=\"63.623047\" xlink:href=\"#DejaVuSans-2e\"/>\r\n       <use x=\"95.410156\" xlink:href=\"#DejaVuSans-35\"/>\r\n      </g>\r\n     </g>\r\n    </g>\r\n    <g id=\"ytick_4\">\r\n     <g id=\"line2d_19\">\r\n      <path clip-path=\"url(#p453626d57b)\" d=\"M 30.103125 14.23564 \r\nL 225.403125 14.23564 \r\n\" style=\"fill:none;stroke:#b0b0b0;stroke-linecap:square;stroke-width:0.8;\"/>\r\n     </g>\r\n     <g id=\"line2d_20\">\r\n      <g>\r\n       <use style=\"stroke:#000000;stroke-width:0.8;\" x=\"30.103125\" xlink:href=\"#m0623c7bac1\" y=\"14.23564\"/>\r\n      </g>\r\n     </g>\r\n     <g id=\"text_11\">\r\n      <!-- 2.0 -->\r\n      <g transform=\"translate(7.2 18.034858)scale(0.1 -0.1)\">\r\n       <use xlink:href=\"#DejaVuSans-32\"/>\r\n       <use x=\"63.623047\" xlink:href=\"#DejaVuSans-2e\"/>\r\n       <use x=\"95.410156\" xlink:href=\"#DejaVuSans-30\"/>\r\n      </g>\r\n     </g>\r\n    </g>\r\n   </g>\r\n   <g id=\"line2d_21\">\r\n    <path clip-path=\"url(#p453626d57b)\" d=\"M 18.943125 13.377273 \r\nL 21.733125 49.424451 \r\nL 24.523125 67.177834 \r\nL 27.313125 77.879759 \r\nL 30.103125 85.005714 \r\nL 32.893125 116.237571 \r\nL 35.683125 117.227401 \r\nL 38.473125 118.064512 \r\nL 41.263125 119.029071 \r\nL 44.053125 119.584001 \r\nL 46.843125 123.296457 \r\nL 49.633125 123.6329 \r\nL 52.423125 124.077084 \r\nL 55.213125 124.07188 \r\nL 58.003125 124.254955 \r\nL 60.793125 125.67188 \r\nL 63.583125 126.204142 \r\nL 66.373125 126.378364 \r\nL 69.163125 126.617437 \r\nL 71.953125 127.01827 \r\nL 74.743125 128.103885 \r\nL 77.533125 128.206088 \r\nL 80.323125 128.563019 \r\nL 83.113125 128.682762 \r\nL 85.903125 128.665438 \r\nL 88.693125 129.606005 \r\nL 91.483125 129.631777 \r\nL 94.273125 129.475528 \r\nL 97.063125 129.608165 \r\nL 99.853125 129.898668 \r\nL 102.643125 130.82757 \r\nL 105.433125 131.107294 \r\nL 108.223125 131.099289 \r\nL 111.013125 131.136376 \r\nL 113.803125 131.192829 \r\nL 116.593125 132.259799 \r\nL 119.383125 132.277471 \r\nL 122.173125 132.085642 \r\nL 124.963125 132.023315 \r\nL 127.753125 132.04259 \r\nL 130.543125 133.330818 \r\nL 133.333125 133.229588 \r\nL 136.123125 133.029769 \r\nL 138.913125 132.757318 \r\nL 141.703125 132.590162 \r\nL 144.493125 133.507117 \r\nL 147.283125 133.604191 \r\nL 150.073125 133.549083 \r\nL 152.863125 133.622435 \r\nL 155.653125 133.569715 \r\nL 158.443125 133.76664 \r\nL 161.233125 134.418277 \r\nL 164.023125 134.066233 \r\nL 166.813125 134.127858 \r\nL 169.603125 134.081203 \r\nL 172.393125 134.550368 \r\nL 175.183125 134.547571 \r\nL 177.973125 134.8276 \r\nL 180.763125 134.769277 \r\nL 183.553125 134.659859 \r\nL 186.343125 135.659116 \r\nL 189.133125 135.802954 \r\nL 191.923125 135.375074 \r\nL 194.713125 135.336018 \r\nL 197.503125 135.295868 \r\nL 200.293125 135.699319 \r\nL 203.083125 135.743185 \r\nL 205.873125 135.853023 \r\nL 208.663125 135.75061 \r\nL 211.453125 135.757124 \r\nL 214.243125 136.868588 \r\nL 217.033125 136.086499 \r\nL 219.823125 136.284858 \r\nL 222.613125 136.115693 \r\nL 225.403125 136.083747 \r\n\" style=\"fill:none;stroke:#1f77b4;stroke-linecap:square;stroke-width:1.5;\"/>\r\n   </g>\r\n   <g id=\"line2d_22\">\r\n    <path clip-path=\"url(#p453626d57b)\" d=\"M 18.943125 136.922727 \r\nL 21.733125 123.688033 \r\nL 24.523125 116.72205 \r\nL 27.313125 112.630268 \r\nL 30.103125 109.884848 \r\nL 32.893125 97.683171 \r\nL 35.683125 97.287891 \r\nL 38.473125 96.871451 \r\nL 41.263125 96.50887 \r\nL 44.053125 96.250928 \r\nL 46.843125 94.722893 \r\nL 49.633125 94.636335 \r\nL 52.423125 94.478608 \r\nL 55.213125 94.480531 \r\nL 58.003125 94.412165 \r\nL 60.793125 94.105447 \r\nL 63.583125 93.845774 \r\nL 66.373125 93.788068 \r\nL 69.163125 93.656789 \r\nL 71.953125 93.477162 \r\nL 74.743125 93.124458 \r\nL 77.533125 93.011933 \r\nL 80.323125 92.899408 \r\nL 83.113125 92.838817 \r\nL 85.903125 92.80021 \r\nL 88.693125 92.558947 \r\nL 91.483125 92.53298 \r\nL 94.273125 92.539712 \r\nL 97.063125 92.466619 \r\nL 99.853125 92.348909 \r\nL 102.643125 92.0396 \r\nL 105.433125 91.852058 \r\nL 108.223125 91.881872 \r\nL 111.013125 91.898222 \r\nL 113.803125 91.902237 \r\nL 116.593125 91.462548 \r\nL 119.383125 91.43081 \r\nL 122.173125 91.518329 \r\nL 124.963125 91.560647 \r\nL 127.753125 91.596741 \r\nL 130.543125 91.087464 \r\nL 133.333125 91.09612 \r\nL 136.123125 91.193257 \r\nL 138.913125 91.319727 \r\nL 141.703125 91.423164 \r\nL 144.493125 90.885495 \r\nL 147.283125 90.830675 \r\nL 150.073125 90.873954 \r\nL 152.863125 90.878282 \r\nL 155.653125 90.904746 \r\nL 158.443125 91.139398 \r\nL 161.233125 90.842217 \r\nL 164.023125 90.93743 \r\nL 166.813125 90.88261 \r\nL 169.603125 90.892017 \r\nL 172.393125 90.516182 \r\nL 175.183125 90.542149 \r\nL 177.973125 90.4604 \r\nL 180.763125 90.559461 \r\nL 183.553125 90.603879 \r\nL 186.343125 90.591199 \r\nL 189.133125 90.406542 \r\nL 191.923125 90.481559 \r\nL 194.713125 90.451264 \r\nL 197.503125 90.438402 \r\nL 200.293125 90.135327 \r\nL 203.083125 90.097819 \r\nL 205.873125 90.118016 \r\nL 208.663125 90.162737 \r\nL 211.453125 90.159521 \r\nL 214.243125 90.05454 \r\nL 217.033125 90.100704 \r\nL 219.823125 89.994911 \r\nL 222.613125 90.040114 \r\nL 225.403125 90.040331 \r\n\" style=\"fill:none;stroke:#bf00bf;stroke-dasharray:5.55,2.4;stroke-dashoffset:0;stroke-width:1.5;\"/>\r\n   </g>\r\n   <g id=\"line2d_23\">\r\n    <path clip-path=\"url(#p453626d57b)\" d=\"M 30.103125 99.330189 \r\nL 44.053125 95.705895 \r\nL 58.003125 94.678317 \r\nL 71.953125 93.852089 \r\nL 85.903125 93.518821 \r\nL 99.853125 93.13695 \r\nL 113.803125 92.539844 \r\nL 127.753125 92.491243 \r\nL 141.703125 92.407926 \r\nL 155.653125 91.942738 \r\nL 169.603125 91.949681 \r\nL 183.553125 92.026055 \r\nL 197.503125 91.685844 \r\nL 211.453125 91.581698 \r\nL 225.403125 91.290088 \r\n\" style=\"fill:none;stroke:#008000;stroke-dasharray:9.6,2.4,1.5,2.4;stroke-dashoffset:0;stroke-width:1.5;\"/>\r\n   </g>\r\n   <g id=\"patch_3\">\r\n    <path d=\"M 30.103125 143.1 \r\nL 30.103125 7.2 \r\n\" style=\"fill:none;stroke:#000000;stroke-linecap:square;stroke-linejoin:miter;stroke-width:0.8;\"/>\r\n   </g>\r\n   <g id=\"patch_4\">\r\n    <path d=\"M 225.403125 143.1 \r\nL 225.403125 7.2 \r\n\" style=\"fill:none;stroke:#000000;stroke-linecap:square;stroke-linejoin:miter;stroke-width:0.8;\"/>\r\n   </g>\r\n   <g id=\"patch_5\">\r\n    <path d=\"M 30.103125 143.1 \r\nL 225.403125 143.1 \r\n\" style=\"fill:none;stroke:#000000;stroke-linecap:square;stroke-linejoin:miter;stroke-width:0.8;\"/>\r\n   </g>\r\n   <g id=\"patch_6\">\r\n    <path d=\"M 30.103125 7.2 \r\nL 225.403125 7.2 \r\n\" style=\"fill:none;stroke:#000000;stroke-linecap:square;stroke-linejoin:miter;stroke-width:0.8;\"/>\r\n   </g>\r\n   <g id=\"legend_1\">\r\n    <g id=\"patch_7\">\r\n     <path d=\"M 140.634375 59.234375 \r\nL 218.403125 59.234375 \r\nQ 220.403125 59.234375 220.403125 57.234375 \r\nL 220.403125 14.2 \r\nQ 220.403125 12.2 218.403125 12.2 \r\nL 140.634375 12.2 \r\nQ 138.634375 12.2 138.634375 14.2 \r\nL 138.634375 57.234375 \r\nQ 138.634375 59.234375 140.634375 59.234375 \r\nz\r\n\" style=\"fill:#ffffff;opacity:0.8;stroke:#cccccc;stroke-linejoin:miter;\"/>\r\n    </g>\r\n    <g id=\"line2d_24\">\r\n     <path d=\"M 142.634375 20.298438 \r\nL 162.634375 20.298438 \r\n\" style=\"fill:none;stroke:#1f77b4;stroke-linecap:square;stroke-width:1.5;\"/>\r\n    </g>\r\n    <g id=\"line2d_25\"/>\r\n    <g id=\"text_12\">\r\n     <!-- train loss -->\r\n     <g transform=\"translate(170.634375 23.798438)scale(0.1 -0.1)\">\r\n      <defs>\r\n       <path d=\"M 1172 4494 \r\nL 1172 3500 \r\nL 2356 3500 \r\nL 2356 3053 \r\nL 1172 3053 \r\nL 1172 1153 \r\nQ 1172 725 1289 603 \r\nQ 1406 481 1766 481 \r\nL 2356 481 \r\nL 2356 0 \r\nL 1766 0 \r\nQ 1100 0 847 248 \r\nQ 594 497 594 1153 \r\nL 594 3053 \r\nL 172 3053 \r\nL 172 3500 \r\nL 594 3500 \r\nL 594 4494 \r\nL 1172 4494 \r\nz\r\n\" id=\"DejaVuSans-74\" transform=\"scale(0.015625)\"/>\r\n       <path d=\"M 2631 2963 \r\nQ 2534 3019 2420 3045 \r\nQ 2306 3072 2169 3072 \r\nQ 1681 3072 1420 2755 \r\nQ 1159 2438 1159 1844 \r\nL 1159 0 \r\nL 581 0 \r\nL 581 3500 \r\nL 1159 3500 \r\nL 1159 2956 \r\nQ 1341 3275 1631 3429 \r\nQ 1922 3584 2338 3584 \r\nQ 2397 3584 2469 3576 \r\nQ 2541 3569 2628 3553 \r\nL 2631 2963 \r\nz\r\n\" id=\"DejaVuSans-72\" transform=\"scale(0.015625)\"/>\r\n       <path d=\"M 2194 1759 \r\nQ 1497 1759 1228 1600 \r\nQ 959 1441 959 1056 \r\nQ 959 750 1161 570 \r\nQ 1363 391 1709 391 \r\nQ 2188 391 2477 730 \r\nQ 2766 1069 2766 1631 \r\nL 2766 1759 \r\nL 2194 1759 \r\nz\r\nM 3341 1997 \r\nL 3341 0 \r\nL 2766 0 \r\nL 2766 531 \r\nQ 2569 213 2275 61 \r\nQ 1981 -91 1556 -91 \r\nQ 1019 -91 701 211 \r\nQ 384 513 384 1019 \r\nQ 384 1609 779 1909 \r\nQ 1175 2209 1959 2209 \r\nL 2766 2209 \r\nL 2766 2266 \r\nQ 2766 2663 2505 2880 \r\nQ 2244 3097 1772 3097 \r\nQ 1472 3097 1187 3025 \r\nQ 903 2953 641 2809 \r\nL 641 3341 \r\nQ 956 3463 1253 3523 \r\nQ 1550 3584 1831 3584 \r\nQ 2591 3584 2966 3190 \r\nQ 3341 2797 3341 1997 \r\nz\r\n\" id=\"DejaVuSans-61\" transform=\"scale(0.015625)\"/>\r\n       <path d=\"M 603 3500 \r\nL 1178 3500 \r\nL 1178 0 \r\nL 603 0 \r\nL 603 3500 \r\nz\r\nM 603 4863 \r\nL 1178 4863 \r\nL 1178 4134 \r\nL 603 4134 \r\nL 603 4863 \r\nz\r\n\" id=\"DejaVuSans-69\" transform=\"scale(0.015625)\"/>\r\n       <path d=\"M 3513 2113 \r\nL 3513 0 \r\nL 2938 0 \r\nL 2938 2094 \r\nQ 2938 2591 2744 2837 \r\nQ 2550 3084 2163 3084 \r\nQ 1697 3084 1428 2787 \r\nQ 1159 2491 1159 1978 \r\nL 1159 0 \r\nL 581 0 \r\nL 581 3500 \r\nL 1159 3500 \r\nL 1159 2956 \r\nQ 1366 3272 1645 3428 \r\nQ 1925 3584 2291 3584 \r\nQ 2894 3584 3203 3211 \r\nQ 3513 2838 3513 2113 \r\nz\r\n\" id=\"DejaVuSans-6e\" transform=\"scale(0.015625)\"/>\r\n       <path id=\"DejaVuSans-20\" transform=\"scale(0.015625)\"/>\r\n       <path d=\"M 603 4863 \r\nL 1178 4863 \r\nL 1178 0 \r\nL 603 0 \r\nL 603 4863 \r\nz\r\n\" id=\"DejaVuSans-6c\" transform=\"scale(0.015625)\"/>\r\n      </defs>\r\n      <use xlink:href=\"#DejaVuSans-74\"/>\r\n      <use x=\"39.208984\" xlink:href=\"#DejaVuSans-72\"/>\r\n      <use x=\"80.322266\" xlink:href=\"#DejaVuSans-61\"/>\r\n      <use x=\"141.601562\" xlink:href=\"#DejaVuSans-69\"/>\r\n      <use x=\"169.384766\" xlink:href=\"#DejaVuSans-6e\"/>\r\n      <use x=\"232.763672\" xlink:href=\"#DejaVuSans-20\"/>\r\n      <use x=\"264.550781\" xlink:href=\"#DejaVuSans-6c\"/>\r\n      <use x=\"292.333984\" xlink:href=\"#DejaVuSans-6f\"/>\r\n      <use x=\"353.515625\" xlink:href=\"#DejaVuSans-73\"/>\r\n      <use x=\"405.615234\" xlink:href=\"#DejaVuSans-73\"/>\r\n     </g>\r\n    </g>\r\n    <g id=\"line2d_26\">\r\n     <path d=\"M 142.634375 34.976562 \r\nL 162.634375 34.976562 \r\n\" style=\"fill:none;stroke:#bf00bf;stroke-dasharray:5.55,2.4;stroke-dashoffset:0;stroke-width:1.5;\"/>\r\n    </g>\r\n    <g id=\"line2d_27\"/>\r\n    <g id=\"text_13\">\r\n     <!-- train acc -->\r\n     <g transform=\"translate(170.634375 38.476562)scale(0.1 -0.1)\">\r\n      <use xlink:href=\"#DejaVuSans-74\"/>\r\n      <use x=\"39.208984\" xlink:href=\"#DejaVuSans-72\"/>\r\n      <use x=\"80.322266\" xlink:href=\"#DejaVuSans-61\"/>\r\n      <use x=\"141.601562\" xlink:href=\"#DejaVuSans-69\"/>\r\n      <use x=\"169.384766\" xlink:href=\"#DejaVuSans-6e\"/>\r\n      <use x=\"232.763672\" xlink:href=\"#DejaVuSans-20\"/>\r\n      <use x=\"264.550781\" xlink:href=\"#DejaVuSans-61\"/>\r\n      <use x=\"325.830078\" xlink:href=\"#DejaVuSans-63\"/>\r\n      <use x=\"380.810547\" xlink:href=\"#DejaVuSans-63\"/>\r\n     </g>\r\n    </g>\r\n    <g id=\"line2d_28\">\r\n     <path d=\"M 142.634375 49.654688 \r\nL 162.634375 49.654688 \r\n\" style=\"fill:none;stroke:#008000;stroke-dasharray:9.6,2.4,1.5,2.4;stroke-dashoffset:0;stroke-width:1.5;\"/>\r\n    </g>\r\n    <g id=\"line2d_29\"/>\r\n    <g id=\"text_14\">\r\n     <!-- test acc -->\r\n     <g transform=\"translate(170.634375 53.154688)scale(0.1 -0.1)\">\r\n      <use xlink:href=\"#DejaVuSans-74\"/>\r\n      <use x=\"39.208984\" xlink:href=\"#DejaVuSans-65\"/>\r\n      <use x=\"100.732422\" xlink:href=\"#DejaVuSans-73\"/>\r\n      <use x=\"152.832031\" xlink:href=\"#DejaVuSans-74\"/>\r\n      <use x=\"192.041016\" xlink:href=\"#DejaVuSans-20\"/>\r\n      <use x=\"223.828125\" xlink:href=\"#DejaVuSans-61\"/>\r\n      <use x=\"285.107422\" xlink:href=\"#DejaVuSans-63\"/>\r\n      <use x=\"340.087891\" xlink:href=\"#DejaVuSans-63\"/>\r\n     </g>\r\n    </g>\r\n   </g>\r\n  </g>\r\n </g>\r\n <defs>\r\n  <clipPath id=\"p453626d57b\">\r\n   <rect height=\"135.9\" width=\"195.3\" x=\"30.103125\" y=\"7.2\"/>\r\n  </clipPath>\r\n </defs>\r\n</svg>\r\n",
      "text/plain": [
       "<Figure size 252x180 with 1 Axes>"
      ]
     },
     "metadata": {
      "needs_background": "light"
     }
    }
   ],
   "metadata": {}
  },
  {
   "cell_type": "code",
   "execution_count": 3,
   "source": [
    "50*256 , len(train_iter) , 235*256"
   ],
   "outputs": [
    {
     "output_type": "execute_result",
     "data": {
      "text/plain": [
       "(12800, 235, 60160)"
      ]
     },
     "metadata": {},
     "execution_count": 3
    }
   ],
   "metadata": {}
  }
 ],
 "metadata": {
  "orig_nbformat": 4,
  "language_info": {
   "name": "python",
   "version": "3.7.10",
   "mimetype": "text/x-python",
   "codemirror_mode": {
    "name": "ipython",
    "version": 3
   },
   "pygments_lexer": "ipython3",
   "nbconvert_exporter": "python",
   "file_extension": ".py"
  },
  "kernelspec": {
   "name": "python3",
   "display_name": "Python 3.7.10 64-bit ('d2l': conda)"
  },
  "interpreter": {
   "hash": "4e3237dc568d8c012c4be0ad63f07931f6897ff43d3b726284ebc51bc8854128"
  }
 },
 "nbformat": 4,
 "nbformat_minor": 2
}