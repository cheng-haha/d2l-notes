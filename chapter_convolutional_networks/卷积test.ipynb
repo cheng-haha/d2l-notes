{
 "cells": [
  {
   "cell_type": "code",
   "execution_count": 4,
   "source": [
    "import torch\r\n",
    "from torch import nn\r\n",
    "from d2l import torch as d2l\r\n",
    "\r\n",
    "\r\n",
    "def corr2d(X, K):  #@save\r\n",
    "    \"\"\"计算二维互相关运算。\"\"\"\r\n",
    "    h, w = K.shape\r\n",
    "    Y = torch.zeros((X.shape[0] - h + 1, X.shape[1] - w + 1))\r\n",
    "    for i in range(Y.shape[0]):\r\n",
    "        for j in range(Y.shape[1]):\r\n",
    "            Y[i, j] = (X[i:i + h, j:j + w] * K).sum()\r\n",
    "    return Y\r\n"
   ],
   "outputs": [],
   "metadata": {}
  },
  {
   "cell_type": "code",
   "execution_count": 2,
   "source": [
    "X = torch.ones((6, 8))\r\n",
    "X[:, 2:6] = 0\r\n",
    "X\r\n"
   ],
   "outputs": [
    {
     "output_type": "execute_result",
     "data": {
      "text/plain": [
       "tensor([[1., 1., 0., 0., 0., 0., 1., 1.],\n",
       "        [1., 1., 0., 0., 0., 0., 1., 1.],\n",
       "        [1., 1., 0., 0., 0., 0., 1., 1.],\n",
       "        [1., 1., 0., 0., 0., 0., 1., 1.],\n",
       "        [1., 1., 0., 0., 0., 0., 1., 1.],\n",
       "        [1., 1., 0., 0., 0., 0., 1., 1.]])"
      ]
     },
     "metadata": {},
     "execution_count": 2
    }
   ],
   "metadata": {}
  },
  {
   "cell_type": "code",
   "execution_count": 3,
   "source": [
    "K = torch.tensor([[1.0, -1.0]])\r\n"
   ],
   "outputs": [],
   "metadata": {}
  },
  {
   "cell_type": "code",
   "execution_count": 5,
   "source": [
    "Y = corr2d(X, K)\r\n",
    "Y\r\n"
   ],
   "outputs": [
    {
     "output_type": "execute_result",
     "data": {
      "text/plain": [
       "tensor([[ 0.,  1.,  0.,  0.,  0., -1.,  0.],\n",
       "        [ 0.,  1.,  0.,  0.,  0., -1.,  0.],\n",
       "        [ 0.,  1.,  0.,  0.,  0., -1.,  0.],\n",
       "        [ 0.,  1.,  0.,  0.,  0., -1.,  0.],\n",
       "        [ 0.,  1.,  0.,  0.,  0., -1.,  0.],\n",
       "        [ 0.,  1.,  0.,  0.,  0., -1.,  0.]])"
      ]
     },
     "metadata": {},
     "execution_count": 5
    }
   ],
   "metadata": {}
  },
  {
   "cell_type": "code",
   "execution_count": 33,
   "source": [
    "# 构造一个二维卷积层，它具有1个输出通道和形状为（1，2）的卷积核\r\n",
    "conv2d = nn.Conv2d(1,1, kernel_size=(1, 2), bias=False)\r\n",
    "\r\n",
    "# 这个二维卷积层使用四维输入和输出格式（批量大小、通道、高度、宽度），\r\n",
    "# 其中批量大小和通道数都为1\r\n",
    "X = X.reshape((1, 1, 6, 8))\r\n",
    "Y = Y.reshape((1, 1, 6, 7))\r\n",
    "\r\n",
    "for i in range(10):\r\n",
    "    Y_hat = conv2d(X)\r\n",
    "    l = (Y_hat - Y) ** 2\r\n",
    "    conv2d.zero_grad()\r\n",
    "    # print( conv2d.weight.grad )\r\n",
    "    l.sum().backward()\r\n",
    "    # print( conv2d.weight.grad )\r\n",
    "    # break\r\n",
    "    # 迭代卷积核\r\n",
    "    conv2d.weight.data -= 3e-2 * conv2d.weight.grad\r\n",
    "    if (i + 1) % 2 == 0:\r\n",
    "        print(f'batch {i+1}, loss {l.sum():.3f}')\r\n"
   ],
   "outputs": [
    {
     "output_type": "stream",
     "name": "stdout",
     "text": [
      "batch 2, loss 12.092\n",
      "batch 4, loss 2.493\n",
      "batch 6, loss 0.608\n",
      "batch 8, loss 0.180\n",
      "batch 10, loss 0.062\n"
     ]
    }
   ],
   "metadata": {}
  }
 ],
 "metadata": {
  "orig_nbformat": 4,
  "language_info": {
   "name": "python",
   "version": "3.7.10",
   "mimetype": "text/x-python",
   "codemirror_mode": {
    "name": "ipython",
    "version": 3
   },
   "pygments_lexer": "ipython3",
   "nbconvert_exporter": "python",
   "file_extension": ".py"
  },
  "kernelspec": {
   "name": "python3",
   "display_name": "Python 3.7.10 64-bit ('d2l': conda)"
  },
  "interpreter": {
   "hash": "4e3237dc568d8c012c4be0ad63f07931f6897ff43d3b726284ebc51bc8854128"
  }
 },
 "nbformat": 4,
 "nbformat_minor": 2
}