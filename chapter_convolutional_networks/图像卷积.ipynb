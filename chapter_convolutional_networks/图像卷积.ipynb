{
 "cells": [
  {
   "cell_type": "code",
   "execution_count": 101,
   "source": [
    "import torch \r\n",
    "from torch import nn"
   ],
   "outputs": [],
   "metadata": {}
  },
  {
   "cell_type": "code",
   "execution_count": 102,
   "source": [
    "def corrd2( x , k ):\r\n",
    "    h , w = k.shape\r\n",
    "    y = torch.zeros( x.shape[0]-h+1 , x.shape[1]-w+1 )\r\n",
    "    for i in range( y.shape[0] ):\r\n",
    "        for j in range( y.shape[1] ):\r\n",
    "            y[i,j] = ( x[ i : i+h , j : j+w ] * k).sum()\r\n",
    "    return y"
   ],
   "outputs": [],
   "metadata": {}
  },
  {
   "cell_type": "code",
   "execution_count": 103,
   "source": [
    "x = torch.arange(16).reshape( 4,4)\r\n",
    "k = torch.tensor( [[1,0],[0,1] ] ,dtype=torch.float32, requires_grad=True )\r\n",
    "x,k,corrd2( x,k)"
   ],
   "outputs": [
    {
     "output_type": "execute_result",
     "data": {
      "text/plain": [
       "(tensor([[ 0,  1,  2,  3],\n",
       "         [ 4,  5,  6,  7],\n",
       "         [ 8,  9, 10, 11],\n",
       "         [12, 13, 14, 15]]),\n",
       " tensor([[1., 0.],\n",
       "         [0., 1.]], requires_grad=True),\n",
       " tensor([[ 5.,  7.,  9.],\n",
       "         [13., 15., 17.],\n",
       "         [21., 23., 25.]], grad_fn=<CopySlices>))"
      ]
     },
     "metadata": {},
     "execution_count": 103
    }
   ],
   "metadata": {}
  },
  {
   "cell_type": "markdown",
   "source": [
    "## 卷积层"
   ],
   "metadata": {}
  },
  {
   "cell_type": "code",
   "execution_count": 104,
   "source": [
    "class Cov2d_test( nn.Module ):\r\n",
    "    def __init__( self  , *kernel_size ):\r\n",
    "        super().__init__()\r\n",
    "        self.weight = nn.Parameter( torch.ones( kernel_size ) ,requires_grad= True)\r\n",
    "        # self.bias = nn.Parameter( torch.zeros( 1 ) , requires_grad= True) #在神经网络中卷积是在求和，所以只需要一个偏置\r\n",
    "    def forward( self , x ):\r\n",
    "        return corrd2( x , self.weight ) "
   ],
   "outputs": [],
   "metadata": {}
  },
  {
   "cell_type": "code",
   "execution_count": 105,
   "source": [
    "conv1 = Cov2d_test( 2,2 )\r\n",
    "x = torch.arange( 8).reshape( 2 , 4 )\r\n",
    "x , conv1( x ) , conv1.weight.data,conv1.weight.grad"
   ],
   "outputs": [
    {
     "output_type": "execute_result",
     "data": {
      "text/plain": [
       "(tensor([[0, 1, 2, 3],\n",
       "         [4, 5, 6, 7]]),\n",
       " tensor([[10., 14., 18.]], grad_fn=<CopySlices>),\n",
       " tensor([[1., 1.],\n",
       "         [1., 1.]]),\n",
       " None)"
      ]
     },
     "metadata": {},
     "execution_count": 105
    }
   ],
   "metadata": {}
  },
  {
   "cell_type": "markdown",
   "source": [
    "# 卷积迭代实验"
   ],
   "metadata": {}
  },
  {
   "cell_type": "code",
   "execution_count": 106,
   "source": [
    "class Cov2d_test( nn.Module ):\r\n",
    "    def __init__( self  , *kernel_size ):\r\n",
    "        super().__init__()\r\n",
    "        self.weight = nn.Parameter( torch.ones( kernel_size ) ,requires_grad= True)\r\n",
    "        # self.bias = nn.Parameter( torch.zeros( 1 ) , requires_grad= True) #在神经网络中卷积是在求和，所以只需要一个偏置\r\n",
    "    def forward( self , x ):\r\n",
    "        return corrd2( x , self.weight ) \r\n",
    "cov1 = Cov2d_test( 2,2 )\r\n",
    "cov1.weight"
   ],
   "outputs": [
    {
     "output_type": "execute_result",
     "data": {
      "text/plain": [
       "Parameter containing:\n",
       "tensor([[1., 1.],\n",
       "        [1., 1.]], requires_grad=True)"
      ]
     },
     "metadata": {},
     "execution_count": 106
    }
   ],
   "metadata": {}
  },
  {
   "cell_type": "code",
   "execution_count": 107,
   "source": [
    "x = torch.arange(8).reshape( 2,4 )\r\n",
    "y = corrd2(x , torch.Tensor( [[1,0],[0,1] ]))\r\n",
    "x,y"
   ],
   "outputs": [
    {
     "output_type": "execute_result",
     "data": {
      "text/plain": [
       "(tensor([[0, 1, 2, 3],\n",
       "         [4, 5, 6, 7]]),\n",
       " tensor([[5., 7., 9.]]))"
      ]
     },
     "metadata": {},
     "execution_count": 107
    }
   ],
   "metadata": {}
  },
  {
   "cell_type": "code",
   "execution_count": 108,
   "source": [
    "for i in range(200):\r\n",
    "    y_hat = cov1(x)\r\n",
    "    l = (y_hat-y)**2\r\n",
    "    cov1.zero_grad()\r\n",
    "    l.sum().backward()\r\n",
    "    cov1.weight.data -= 0.001*cov1.weight.grad\r\n",
    "    if (i+1)%10 ==0:\r\n",
    "        print(f'batch:{i} , loss:{l.sum()}')"
   ],
   "outputs": [
    {
     "output_type": "stream",
     "name": "stdout",
     "text": [
      "batch:9 , loss:0.4637046456336975\n",
      "batch:19 , loss:0.41661059856414795\n",
      "batch:29 , loss:0.3845173120498657\n",
      "batch:39 , loss:0.35489803552627563\n",
      "batch:49 , loss:0.3275596797466278\n",
      "batch:59 , loss:0.30232682824134827\n",
      "batch:69 , loss:0.27903860807418823\n",
      "batch:79 , loss:0.2575428783893585\n",
      "batch:89 , loss:0.23770400881767273\n",
      "batch:99 , loss:0.21939361095428467\n",
      "batch:109 , loss:0.20249325037002563\n",
      "batch:119 , loss:0.1868947148323059\n",
      "batch:129 , loss:0.17249828577041626\n",
      "batch:139 , loss:0.1592099815607071\n",
      "batch:149 , loss:0.14694596827030182\n",
      "batch:159 , loss:0.13562601804733276\n",
      "batch:169 , loss:0.12517939507961273\n",
      "batch:179 , loss:0.115536168217659\n",
      "batch:189 , loss:0.10663630068302155\n",
      "batch:199 , loss:0.09842219948768616\n"
     ]
    }
   ],
   "metadata": {}
  },
  {
   "cell_type": "code",
   "execution_count": 109,
   "source": [
    "pre_y =corrd2(x , cov1.weight)\r\n",
    "pre_y,cov1.weight#显然我们当时设置的权值是[[1,0],[0,1]，而这里的权值是[[0.6710, 0.6244],[0.4845, 0.4378]]，显然过拟合了。"
   ],
   "outputs": [
    {
     "output_type": "execute_result",
     "data": {
      "text/plain": [
       "(tensor([[4.7513, 6.9689, 9.1866]], grad_fn=<CopySlices>),\n",
       " Parameter containing:\n",
       " tensor([[0.6710, 0.6244],\n",
       "         [0.4845, 0.4378]], requires_grad=True))"
      ]
     },
     "metadata": {},
     "execution_count": 109
    }
   ],
   "metadata": {}
  },
  {
   "cell_type": "markdown",
   "source": [
    "## 卷积"
   ],
   "metadata": {}
  },
  {
   "cell_type": "code",
   "execution_count": 110,
   "source": [
    "x = torch.ones( (6,8))\r\n",
    "x[:,2:6]=0\r\n",
    "x"
   ],
   "outputs": [
    {
     "output_type": "execute_result",
     "data": {
      "text/plain": [
       "tensor([[1., 1., 0., 0., 0., 0., 1., 1.],\n",
       "        [1., 1., 0., 0., 0., 0., 1., 1.],\n",
       "        [1., 1., 0., 0., 0., 0., 1., 1.],\n",
       "        [1., 1., 0., 0., 0., 0., 1., 1.],\n",
       "        [1., 1., 0., 0., 0., 0., 1., 1.],\n",
       "        [1., 1., 0., 0., 0., 0., 1., 1.]])"
      ]
     },
     "metadata": {},
     "execution_count": 110
    }
   ],
   "metadata": {}
  },
  {
   "cell_type": "code",
   "execution_count": 111,
   "source": [
    "k = torch.tensor( [[1. , -1. ]])\r\n",
    "y = corrd2( x,k)\r\n",
    "y,y.shape"
   ],
   "outputs": [
    {
     "output_type": "execute_result",
     "data": {
      "text/plain": [
       "(tensor([[ 0.,  1.,  0.,  0.,  0., -1.,  0.],\n",
       "         [ 0.,  1.,  0.,  0.,  0., -1.,  0.],\n",
       "         [ 0.,  1.,  0.,  0.,  0., -1.,  0.],\n",
       "         [ 0.,  1.,  0.,  0.,  0., -1.,  0.],\n",
       "         [ 0.,  1.,  0.,  0.,  0., -1.,  0.],\n",
       "         [ 0.,  1.,  0.,  0.,  0., -1.,  0.]]),\n",
       " torch.Size([6, 7]))"
      ]
     },
     "metadata": {},
     "execution_count": 111
    }
   ],
   "metadata": {}
  },
  {
   "cell_type": "code",
   "execution_count": 112,
   "source": [
    "cov2 = nn.Conv2d( 1,1,kernel_size=(1,2) , bias=False )\r\n",
    "x = x.reshape(1,1,6,8)\r\n",
    "y = y.reshape( (1,1,6,7))\r\n",
    "print( cov2.weight.grad )\r\n",
    "for i in range( 10 ):\r\n",
    "    y_hat = cov2( x )\r\n",
    "    l = (y_hat-y)**2\r\n",
    "    cov2.zero_grad()\r\n",
    "    l.sum().backward()\r\n",
    "    cov2.weight.data[:] -= 0.01*cov2.weight.grad\r\n",
    "    print( f'batch:{i} , loss:{l.sum()}')"
   ],
   "outputs": [
    {
     "output_type": "stream",
     "name": "stdout",
     "text": [
      "None\n",
      "batch:0 , loss:25.960784912109375\n",
      "batch:1 , loss:20.09854507446289\n",
      "batch:2 , loss:15.563437461853027\n",
      "batch:3 , loss:12.052184104919434\n",
      "batch:4 , loss:9.333189010620117\n",
      "batch:5 , loss:7.227618217468262\n",
      "batch:6 , loss:5.597066879272461\n",
      "batch:7 , loss:4.334368705749512\n",
      "batch:8 , loss:3.3565356731414795\n",
      "batch:9 , loss:2.5993010997772217\n"
     ]
    }
   ],
   "metadata": {}
  },
  {
   "cell_type": "code",
   "execution_count": 113,
   "source": [
    "# 构造一个二维卷积层，它具有1个输出通道和形状为（1，2）的卷积核\r\n",
    "conv2d = nn.Conv2d(1,1, kernel_size=(1, 2), bias=False)\r\n",
    "\r\n",
    "# 这个二维卷积层使用四维输入和输出格式（批量大小、通道、高度、宽度），\r\n",
    "# 其中批量大小和通道数都为1\r\n",
    "X = x.reshape((1, 1, 6, 8))\r\n",
    "Y = y.reshape((1, 1, 6, 7))\r\n",
    "\r\n",
    "for i in range(10):\r\n",
    "    Y_hat = conv2d(X)\r\n",
    "    l = (Y_hat - Y) ** 2\r\n",
    "    conv2d.zero_grad()\r\n",
    "    l.sum().backward()\r\n",
    "    # 迭代卷积核\r\n",
    "    conv2d.weight.data[:] -= 3e-2 * conv2d.weight.grad\r\n",
    "    if (i + 1) % 2 == 0:\r\n",
    "        print(f'batch {i+1}, loss {l.sum():.3f}')\r\n"
   ],
   "outputs": [
    {
     "output_type": "stream",
     "name": "stdout",
     "text": [
      "batch 2, loss 7.154\n",
      "batch 4, loss 1.467\n",
      "batch 6, loss 0.355\n",
      "batch 8, loss 0.104\n",
      "batch 10, loss 0.036\n"
     ]
    }
   ],
   "metadata": {}
  }
 ],
 "metadata": {
  "orig_nbformat": 4,
  "language_info": {
   "name": "python",
   "version": "3.8.10",
   "mimetype": "text/x-python",
   "codemirror_mode": {
    "name": "ipython",
    "version": 3
   },
   "pygments_lexer": "ipython3",
   "nbconvert_exporter": "python",
   "file_extension": ".py"
  },
  "kernelspec": {
   "name": "python3",
   "display_name": "Python 3.8.10 64-bit ('torch': conda)"
  },
  "interpreter": {
   "hash": "93658e0aa5c2f8146507f9e0924978d8ebc7ab911f4b71dd6ed5689af2c9b976"
  }
 },
 "nbformat": 4,
 "nbformat_minor": 2
}