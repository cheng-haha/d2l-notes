{
 "cells": [
  {
   "cell_type": "code",
   "execution_count": 2,
   "source": [
    "import torch\r\n",
    "from torch import nn\r\n",
    "import time"
   ],
   "outputs": [],
   "metadata": {}
  },
  {
   "cell_type": "code",
   "execution_count": 261,
   "source": [
    "torch.device('cpu'), torch.device('cuda') , torch.cuda.device('cuda')"
   ],
   "outputs": [
    {
     "output_type": "execute_result",
     "data": {
      "text/plain": [
       "(device(type='cpu'), device(type='cuda'), <torch.cuda.device at 0x2390abcaf08>)"
      ]
     },
     "metadata": {},
     "execution_count": 261
    }
   ],
   "metadata": {}
  },
  {
   "cell_type": "code",
   "execution_count": 262,
   "source": [
    "torch.cuda.device_count()"
   ],
   "outputs": [
    {
     "output_type": "execute_result",
     "data": {
      "text/plain": [
       "1"
      ]
     },
     "metadata": {},
     "execution_count": 262
    }
   ],
   "metadata": {}
  },
  {
   "cell_type": "markdown",
   "source": [
    "## **两种GPU的赋值方式**"
   ],
   "metadata": {}
  },
  {
   "cell_type": "code",
   "execution_count": 263,
   "source": [
    "x = torch.ones( 2 ).cuda()"
   ],
   "outputs": [],
   "metadata": {}
  },
  {
   "cell_type": "code",
   "execution_count": 264,
   "source": [
    "x"
   ],
   "outputs": [
    {
     "output_type": "execute_result",
     "data": {
      "text/plain": [
       "tensor([1., 1.], device='cuda:0')"
      ]
     },
     "metadata": {},
     "execution_count": 264
    }
   ],
   "metadata": {}
  },
  {
   "cell_type": "code",
   "execution_count": 265,
   "source": [
    "y = torch.ones( 2 , device=torch.device('cuda'))\r\n",
    "y"
   ],
   "outputs": [
    {
     "output_type": "execute_result",
     "data": {
      "text/plain": [
       "tensor([1., 1.], device='cuda:0')"
      ]
     },
     "metadata": {},
     "execution_count": 265
    }
   ],
   "metadata": {}
  },
  {
   "cell_type": "markdown",
   "source": [
    "## **测试一下cpu和gpu的时间**"
   ],
   "metadata": {}
  },
  {
   "cell_type": "code",
   "execution_count": 266,
   "source": [
    "net = nn.Sequential( nn.Linear( 5 , 1200 ) , nn.ReLU() , nn.Linear( 1200 , 100) , nn.Linear(100,100) , \r\n",
    "                        nn.Linear(100,100) , nn.Linear(100,1) )\r\n",
    "x = torch.ones(5)\r\n",
    "start = time.time()\r\n",
    "net( x )\r\n",
    "end = time.time()\r\n",
    "float(end - start )"
   ],
   "outputs": [
    {
     "output_type": "execute_result",
     "data": {
      "text/plain": [
       "0.0010035037994384766"
      ]
     },
     "metadata": {},
     "execution_count": 266
    }
   ],
   "metadata": {}
  },
  {
   "cell_type": "code",
   "execution_count": 267,
   "source": [
    "net1 = nn.Sequential( nn.Linear( 5 , 1200 ) , nn.ReLU() , nn.Linear( 1200 , 100) , nn.Linear(100,100) , \r\n",
    "                        nn.Linear(100,100) , nn.Linear(100,1) )\r\n",
    "net1 = net.to(device=torch.device('cuda'))\r\n",
    "y = torch.ones(5).cuda()\r\n",
    "start = time.time()\r\n",
    "net( y )\r\n",
    "end = time.time()\r\n",
    "float(end - start )"
   ],
   "outputs": [
    {
     "output_type": "execute_result",
     "data": {
      "text/plain": [
       "0.001504659652709961"
      ]
     },
     "metadata": {},
     "execution_count": 267
    }
   ],
   "metadata": {}
  },
  {
   "cell_type": "code",
   "execution_count": 268,
   "source": [
    "net[0].weight.data.device"
   ],
   "outputs": [
    {
     "output_type": "execute_result",
     "data": {
      "text/plain": [
       "device(type='cuda', index=0)"
      ]
     },
     "metadata": {},
     "execution_count": 268
    }
   ],
   "metadata": {}
  },
  {
   "cell_type": "markdown",
   "source": [
    "## 我怀疑我的gpu是假的，并且掌握充分证据"
   ],
   "metadata": {}
  },
  {
   "cell_type": "code",
   "execution_count": 269,
   "source": [
    "x = torch.rand(size=(2,100,100))\r\n",
    "start = time.time()\r\n",
    "for i in range( 100000 ):\r\n",
    "    torch.mm(x[0],x[1])\r\n",
    "end = time.time()\r\n",
    "float( end - start )\r\n"
   ],
   "outputs": [
    {
     "output_type": "execute_result",
     "data": {
      "text/plain": [
       "3.7159454822540283"
      ]
     },
     "metadata": {},
     "execution_count": 269
    }
   ],
   "metadata": {}
  },
  {
   "cell_type": "code",
   "execution_count": 270,
   "source": [
    "x = torch.rand(size=(2,100,100)).cuda()\r\n",
    "start = time.time()\r\n",
    "for i in range( 10000 ):\r\n",
    "    torch.mm(x[0],x[1])\r\n",
    "end = time.time()\r\n",
    "float( end - start )"
   ],
   "outputs": [
    {
     "output_type": "execute_result",
     "data": {
      "text/plain": [
       "0.6710937023162842"
      ]
     },
     "metadata": {},
     "execution_count": 270
    }
   ],
   "metadata": {}
  },
  {
   "cell_type": "markdown",
   "source": [
    "## 现在我又相信我的显卡了，GTX1050yyds，小样本看不出来，大样本直接支棱起来了，将近6倍的加速"
   ],
   "metadata": {}
  },
  {
   "cell_type": "markdown",
   "source": [
    "## GPU函数写法"
   ],
   "metadata": {}
  },
  {
   "cell_type": "code",
   "execution_count": 3,
   "source": [
    "torch.cuda.device( 'cuda')"
   ],
   "outputs": [
    {
     "output_type": "execute_result",
     "data": {
      "text/plain": [
       "<torch.cuda.device at 0x2464a0d09c8>"
      ]
     },
     "metadata": {},
     "execution_count": 3
    }
   ],
   "metadata": {}
  },
  {
   "cell_type": "code",
   "execution_count": 5,
   "source": [
    "def try_gpu( i=0 ):\r\n",
    "    '''如果存在就返回cuda:i，也就是返回第几个GPU，如果没有GPU，就返回cpu'''\r\n",
    "    if torch.cuda.device_count() >= i+1:\r\n",
    "        return torch.device( f'cuda:{i}')\r\n",
    "    return torch.device( 'cpu' )\r\n",
    "def try_all_gpu( ):\r\n",
    "    devices = [ torch.device(f'cuda:{i}') for i in range( torch.cuda.device_count() ) ]\r\n",
    "    return devices if devices else [torch.device('cpu')]"
   ],
   "outputs": [],
   "metadata": {}
  },
  {
   "cell_type": "code",
   "execution_count": 7,
   "source": [
    "try_all_gpu()"
   ],
   "outputs": [
    {
     "output_type": "execute_result",
     "data": {
      "text/plain": [
       "[device(type='cuda', index=0)]"
      ]
     },
     "metadata": {},
     "execution_count": 7
    }
   ],
   "metadata": {}
  }
 ],
 "metadata": {
  "orig_nbformat": 4,
  "language_info": {
   "name": "python",
   "version": "3.7.10",
   "mimetype": "text/x-python",
   "codemirror_mode": {
    "name": "ipython",
    "version": 3
   },
   "pygments_lexer": "ipython3",
   "nbconvert_exporter": "python",
   "file_extension": ".py"
  },
  "kernelspec": {
   "name": "python3",
   "display_name": "Python 3.7.10 64-bit ('d2l': conda)"
  },
  "interpreter": {
   "hash": "4e3237dc568d8c012c4be0ad63f07931f6897ff43d3b726284ebc51bc8854128"
  }
 },
 "nbformat": 4,
 "nbformat_minor": 2
}