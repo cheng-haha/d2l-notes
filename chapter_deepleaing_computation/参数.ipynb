{
 "cells": [
  {
   "cell_type": "code",
   "execution_count": 9,
   "source": [
    "import torch \r\n",
    "from torch import nn"
   ],
   "outputs": [],
   "metadata": {}
  },
  {
   "cell_type": "code",
   "execution_count": 13,
   "source": [
    "net = nn.Sequential( nn.Linear( 4,8) , nn.ReLU() , nn.Linear( 8 ,1 ) )\r\n",
    "x  = torch.ones( 2,4 )\r\n",
    "net( x ) , net[0](x)"
   ],
   "outputs": [
    {
     "output_type": "execute_result",
     "data": {
      "text/plain": [
       "(tensor([[0.4425],\n",
       "         [0.4425]], grad_fn=<AddmmBackward>),\n",
       " tensor([[-0.0718, -0.6553,  0.0997,  0.5128,  0.1804, -1.3132, -0.4703,  0.5067],\n",
       "         [-0.0718, -0.6553,  0.0997,  0.5128,  0.1804, -1.3132, -0.4703,  0.5067]],\n",
       "        grad_fn=<AddmmBackward>))"
      ]
     },
     "metadata": {},
     "execution_count": 13
    }
   ],
   "metadata": {}
  },
  {
   "cell_type": "code",
   "execution_count": 14,
   "source": [
    "print( net[0].weight.shape , net[0].weight )"
   ],
   "outputs": [
    {
     "output_type": "stream",
     "name": "stdout",
     "text": [
      "torch.Size([8, 4]) Parameter containing:\n",
      "tensor([[-0.0276,  0.1369, -0.2098,  0.3570],\n",
      "        [ 0.2935, -0.4089, -0.4007,  0.1465],\n",
      "        [ 0.2554, -0.3449, -0.0934, -0.2119],\n",
      "        [-0.2409,  0.4620, -0.2183,  0.3321],\n",
      "        [ 0.1007, -0.1509,  0.0962,  0.4125],\n",
      "        [-0.4971, -0.2493, -0.3001,  0.1739],\n",
      "        [-0.3087, -0.0322,  0.3761, -0.4283],\n",
      "        [ 0.4632, -0.0415, -0.0617,  0.2544]], requires_grad=True)\n"
     ]
    }
   ],
   "metadata": {}
  },
  {
   "cell_type": "markdown",
   "source": [
    "## **这里就会有一个问题，我们之前做的相乘都是X@Weight+bias ,但是在nn.Linear里不是这样做的，因为显然这个weight矩阵是8 * 4 ,X是2 * 4，显然不是X@Weight这么简单**\r\n",
    "* 通过阅读nn.Linear的源码知道了在linear中做了这个操作ret = torch.addmm(bias, input, weight.t())，具体查看functional的linear函数，所以可知在线性层中是X@Weight.t()"
   ],
   "metadata": {}
  },
  {
   "cell_type": "code",
   "execution_count": 24,
   "source": [
    "x.mm( net[0].weight.detach().T ) + net[0].bias.detach()  #结果正确"
   ],
   "outputs": [
    {
     "output_type": "execute_result",
     "data": {
      "text/plain": [
       "tensor([[-0.0718, -0.6553,  0.0997,  0.5128,  0.1804, -1.3132, -0.4703,  0.5067],\n",
       "        [-0.0718, -0.6553,  0.0997,  0.5128,  0.1804, -1.3132, -0.4703,  0.5067]])"
      ]
     },
     "metadata": {},
     "execution_count": 24
    }
   ],
   "metadata": {}
  },
  {
   "cell_type": "code",
   "execution_count": 25,
   "source": [
    "net[0].weight"
   ],
   "outputs": [
    {
     "output_type": "execute_result",
     "data": {
      "text/plain": [
       "Parameter containing:\n",
       "tensor([[-0.0276,  0.1369, -0.2098,  0.3570],\n",
       "        [ 0.2935, -0.4089, -0.4007,  0.1465],\n",
       "        [ 0.2554, -0.3449, -0.0934, -0.2119],\n",
       "        [-0.2409,  0.4620, -0.2183,  0.3321],\n",
       "        [ 0.1007, -0.1509,  0.0962,  0.4125],\n",
       "        [-0.4971, -0.2493, -0.3001,  0.1739],\n",
       "        [-0.3087, -0.0322,  0.3761, -0.4283],\n",
       "        [ 0.4632, -0.0415, -0.0617,  0.2544]], requires_grad=True)"
      ]
     },
     "metadata": {},
     "execution_count": 25
    }
   ],
   "metadata": {}
  },
  {
   "cell_type": "code",
   "execution_count": 27,
   "source": [
    "net[2].state_dict()"
   ],
   "outputs": [
    {
     "output_type": "execute_result",
     "data": {
      "text/plain": [
       "OrderedDict([('weight',\n",
       "              tensor([[-0.1523, -0.2268,  0.2209,  0.0400, -0.0794, -0.2174, -0.1404,  0.3296]])),\n",
       "             ('bias', tensor([0.2472]))])"
      ]
     },
     "metadata": {},
     "execution_count": 27
    }
   ],
   "metadata": {}
  },
  {
   "cell_type": "code",
   "execution_count": 28,
   "source": [
    "net[1] #所以在torch里要将激活函数算作一层"
   ],
   "outputs": [
    {
     "output_type": "execute_result",
     "data": {
      "text/plain": [
       "ReLU()"
      ]
     },
     "metadata": {},
     "execution_count": 28
    }
   ],
   "metadata": {}
  },
  {
   "cell_type": "code",
   "execution_count": 33,
   "source": [
    "for block in  net.state_dict():\r\n",
    "    print( block , net.state_dict()[block].size())"
   ],
   "outputs": [
    {
     "output_type": "stream",
     "name": "stdout",
     "text": [
      "0.weight torch.Size([8, 4])\n",
      "0.bias torch.Size([8])\n",
      "2.weight torch.Size([1, 8])\n",
      "2.bias torch.Size([1])\n"
     ]
    }
   ],
   "metadata": {}
  },
  {
   "cell_type": "code",
   "execution_count": 48,
   "source": [
    "next(net.named_modules())\r\n"
   ],
   "outputs": [
    {
     "output_type": "execute_result",
     "data": {
      "text/plain": [
       "('',\n",
       " Sequential(\n",
       "   (0): Linear(in_features=4, out_features=8, bias=True)\n",
       "   (1): ReLU()\n",
       "   (2): Linear(in_features=8, out_features=1, bias=True)\n",
       " ))"
      ]
     },
     "metadata": {},
     "execution_count": 48
    }
   ],
   "metadata": {}
  }
 ],
 "metadata": {
  "orig_nbformat": 4,
  "language_info": {
   "name": "python",
   "version": "3.7.10",
   "mimetype": "text/x-python",
   "codemirror_mode": {
    "name": "ipython",
    "version": 3
   },
   "pygments_lexer": "ipython3",
   "nbconvert_exporter": "python",
   "file_extension": ".py"
  },
  "kernelspec": {
   "name": "python3",
   "display_name": "Python 3.7.10 64-bit ('d2l': conda)"
  },
  "interpreter": {
   "hash": "4e3237dc568d8c012c4be0ad63f07931f6897ff43d3b726284ebc51bc8854128"
  }
 },
 "nbformat": 4,
 "nbformat_minor": 2
}