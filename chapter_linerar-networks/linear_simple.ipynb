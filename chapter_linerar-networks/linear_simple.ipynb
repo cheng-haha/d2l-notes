{
 "cells": [
  {
   "cell_type": "code",
   "execution_count": 2,
   "source": [
    "from d2l import torch as d2l\r\n",
    "from torch.utils import data\r\n",
    "import torch\r\n",
    "from torch import nn"
   ],
   "outputs": [],
   "metadata": {}
  },
  {
   "cell_type": "code",
   "execution_count": 35,
   "source": [
    "true_w = torch.tensor( [2 , -3.4])\r\n",
    "true_b = torch.tensor( 4.2 )\r\n",
    "features , labels = d2l.synthetic_data(true_w , true_b ,1000 )"
   ],
   "outputs": [],
   "metadata": {}
  },
  {
   "cell_type": "code",
   "execution_count": 36,
   "source": [
    "def data_loader( data_array , batch_size , is_train=True ):\r\n",
    "    dataset = data.TensorDataset( *data_array ) #返回一个dataset类，这个类就是每一个特征数据对应一个标签，可以用for a,b in dataset\r\n",
    "                                                #进行打印\r\n",
    "    return data.DataLoader( dataset , batch_size , shuffle = is_train )#Dataloader就像一个容器一样，将数据集载入后，我们可以自定\r\n",
    "                                                                        #义如何取数据，这里的意思就是\r\n",
    "                                                                        # 1.shuffle是True就代表迭起对象在每个迭代周期内允许打乱数据\r\n",
    "                                                                        # 2.每次取batch_size个[特征,标签]个数据"
   ],
   "outputs": [],
   "metadata": {}
  },
  {
   "cell_type": "code",
   "execution_count": 37,
   "source": [
    "batch_size = 10\r\n",
    "data_iter = data_loader( (features , labels ) , batch_size )"
   ],
   "outputs": [],
   "metadata": {}
  },
  {
   "cell_type": "code",
   "execution_count": 38,
   "source": [
    "next( iter( data_iter ))"
   ],
   "outputs": [
    {
     "output_type": "execute_result",
     "data": {
      "text/plain": [
       "[tensor([[ 1.2726,  0.0207],\n",
       "         [ 0.5145, -0.0977],\n",
       "         [-0.0664, -0.5774],\n",
       "         [-1.1348, -0.5751],\n",
       "         [ 2.1661,  1.5879],\n",
       "         [-1.9877,  1.2320],\n",
       "         [-0.1910, -0.1197],\n",
       "         [ 1.5384, -0.3481],\n",
       "         [-1.0090, -0.8144],\n",
       "         [-0.7138, -0.5760]]),\n",
       " tensor([[ 6.6873],\n",
       "         [ 5.5625],\n",
       "         [ 6.0437],\n",
       "         [ 3.8709],\n",
       "         [ 3.1461],\n",
       "         [-3.9624],\n",
       "         [ 4.2259],\n",
       "         [ 8.4581],\n",
       "         [ 4.9583],\n",
       "         [ 4.7274]])]"
      ]
     },
     "metadata": {},
     "execution_count": 38
    }
   ],
   "metadata": {}
  },
  {
   "cell_type": "markdown",
   "source": [
    "* 定义损失函数"
   ],
   "metadata": {}
  },
  {
   "cell_type": "code",
   "execution_count": 39,
   "source": [
    "loss = nn.MSELoss()"
   ],
   "outputs": [],
   "metadata": {}
  },
  {
   "cell_type": "markdown",
   "source": [
    "* 定义模型"
   ],
   "metadata": {}
  },
  {
   "cell_type": "code",
   "execution_count": 40,
   "source": [
    "model  = nn.Sequential( nn.Linear( 2 ,1 ))"
   ],
   "outputs": [],
   "metadata": {}
  },
  {
   "cell_type": "markdown",
   "source": [
    "* 定义优化器"
   ],
   "metadata": {}
  },
  {
   "cell_type": "code",
   "execution_count": 41,
   "source": [
    "trainer = torch.optim.SGD( model.parameters() , lr= 0.01 )"
   ],
   "outputs": [],
   "metadata": {}
  },
  {
   "cell_type": "code",
   "execution_count": 42,
   "source": [
    "epochs = 10\r\n",
    "for epoch in range( epochs ):\r\n",
    "    for i , data in enumerate( data_iter , 1 ): #对应的数据从序号1开始\r\n",
    "        x , y = data\r\n",
    "        l = loss( model(x) , y )\r\n",
    "        trainer.zero_grad()\r\n",
    "        l.backward()\r\n",
    "        trainer.step()\r\n",
    "    print( f'epoch:{epoch} , loss:{l:f}')"
   ],
   "outputs": [
    {
     "output_type": "stream",
     "name": "stdout",
     "text": [
      "epoch:0 , loss:0.832022\n",
      "epoch:1 , loss:0.025330\n",
      "epoch:2 , loss:0.000234\n",
      "epoch:3 , loss:0.000049\n",
      "epoch:4 , loss:0.000064\n",
      "epoch:5 , loss:0.000100\n",
      "epoch:6 , loss:0.000079\n",
      "epoch:7 , loss:0.000033\n",
      "epoch:8 , loss:0.000108\n",
      "epoch:9 , loss:0.000080\n"
     ]
    }
   ],
   "metadata": {}
  },
  {
   "cell_type": "code",
   "execution_count": 47,
   "source": [
    "predict_w , predict_b  = model[0].weight.data, model[0].bias.data\r\n",
    "print( predict_w , predict_b )"
   ],
   "outputs": [
    {
     "output_type": "stream",
     "name": "stdout",
     "text": [
      "tensor([[ 2.0000, -3.3996]]) tensor([4.1999])\n"
     ]
    }
   ],
   "metadata": {}
  },
  {
   "cell_type": "code",
   "execution_count": 50,
   "source": [
    "model(torch.Tensor([ 1.2726,  0.0207] )) #结果正确"
   ],
   "outputs": [
    {
     "output_type": "execute_result",
     "data": {
      "text/plain": [
       "tensor([6.6747], grad_fn=<AddBackward0>)"
      ]
     },
     "metadata": {},
     "execution_count": 50
    }
   ],
   "metadata": {}
  }
 ],
 "metadata": {
  "orig_nbformat": 4,
  "language_info": {
   "name": "python",
   "version": "3.7.10",
   "mimetype": "text/x-python",
   "codemirror_mode": {
    "name": "ipython",
    "version": 3
   },
   "pygments_lexer": "ipython3",
   "nbconvert_exporter": "python",
   "file_extension": ".py"
  },
  "kernelspec": {
   "name": "python3",
   "display_name": "Python 3.7.10 64-bit ('d2l': conda)"
  },
  "interpreter": {
   "hash": "4e3237dc568d8c012c4be0ad63f07931f6897ff43d3b726284ebc51bc8854128"
  }
 },
 "nbformat": 4,
 "nbformat_minor": 2
}