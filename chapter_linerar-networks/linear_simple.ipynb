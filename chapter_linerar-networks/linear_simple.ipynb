{
 "cells": [
  {
   "cell_type": "code",
   "execution_count": 2,
   "metadata": {},
   "outputs": [],
   "source": [
    "from d2l import torch as d2l\n",
    "from torch.utils import data\n",
    "import torch\n",
    "from torch import nn"
   ]
  },
  {
   "cell_type": "code",
   "execution_count": 35,
   "metadata": {},
   "outputs": [],
   "source": [
    "true_w = torch.tensor( [2 , -3.4])\n",
    "true_b = torch.tensor( 4.2 )\n",
    "features , labels = d2l.synthetic_data(true_w , true_b ,1000 )"
   ]
  },
  {
   "cell_type": "code",
   "execution_count": 36,
   "metadata": {},
   "outputs": [],
   "source": [
    "def data_loader( data_array , batch_size , is_train=True ):\n",
    "    dataset = data.TensorDataset( *data_array ) #返回一个dataset类，这个类就是每一个特征数据对应一个标签，可以用for a,b in dataset\n",
    "                                                #进行打印\n",
    "    return data.DataLoader( dataset , batch_size , shuffle = is_train )#Dataloader就像一个容器一样，将数据集载入后，我们可以自定\n",
    "                                                                        #义如何取数据，这里的意思就是\n",
    "                                                                        # 1.shuffle是True就代表迭起对象在每个迭代周期内允许打乱数据\n",
    "                                                                        # 2.每次取batch_size个[特征,标签]个数据"
   ]
  },
  {
   "cell_type": "code",
   "execution_count": 37,
   "metadata": {},
   "outputs": [],
   "source": [
    "batch_size = 10\n",
    "data_iter = data_loader( (features , labels ) , batch_size )"
   ]
  },
  {
   "cell_type": "code",
   "execution_count": 38,
   "metadata": {},
   "outputs": [
    {
     "data": {
      "text/plain": [
       "[tensor([[ 1.2726,  0.0207],\n",
       "         [ 0.5145, -0.0977],\n",
       "         [-0.0664, -0.5774],\n",
       "         [-1.1348, -0.5751],\n",
       "         [ 2.1661,  1.5879],\n",
       "         [-1.9877,  1.2320],\n",
       "         [-0.1910, -0.1197],\n",
       "         [ 1.5384, -0.3481],\n",
       "         [-1.0090, -0.8144],\n",
       "         [-0.7138, -0.5760]]),\n",
       " tensor([[ 6.6873],\n",
       "         [ 5.5625],\n",
       "         [ 6.0437],\n",
       "         [ 3.8709],\n",
       "         [ 3.1461],\n",
       "         [-3.9624],\n",
       "         [ 4.2259],\n",
       "         [ 8.4581],\n",
       "         [ 4.9583],\n",
       "         [ 4.7274]])]"
      ]
     },
     "execution_count": 38,
     "metadata": {},
     "output_type": "execute_result"
    }
   ],
   "source": [
    "next( iter( data_iter ))"
   ]
  },
  {
   "cell_type": "markdown",
   "metadata": {},
   "source": [
    "* 定义损失函数"
   ]
  },
  {
   "cell_type": "code",
   "execution_count": 39,
   "metadata": {},
   "outputs": [],
   "source": [
    "loss = nn.MSELoss()"
   ]
  },
  {
   "cell_type": "markdown",
   "metadata": {},
   "source": [
    "* 定义模型"
   ]
  },
  {
   "cell_type": "code",
   "execution_count": 40,
   "metadata": {},
   "outputs": [],
   "source": [
    "model  = nn.Sequential( nn.Linear( 2 ,1 ))"
   ]
  },
  {
   "cell_type": "markdown",
   "metadata": {},
   "source": [
    "* 定义优化器"
   ]
  },
  {
   "cell_type": "code",
   "execution_count": 41,
   "metadata": {},
   "outputs": [],
   "source": [
    "trainer = torch.optim.SGD( model.parameters() , lr= 0.01 )"
   ]
  },
  {
   "cell_type": "code",
   "execution_count": 42,
   "metadata": {},
   "outputs": [
    {
     "name": "stdout",
     "output_type": "stream",
     "text": [
      "epoch:0 , loss:0.832022\n",
      "epoch:1 , loss:0.025330\n",
      "epoch:2 , loss:0.000234\n",
      "epoch:3 , loss:0.000049\n",
      "epoch:4 , loss:0.000064\n",
      "epoch:5 , loss:0.000100\n",
      "epoch:6 , loss:0.000079\n",
      "epoch:7 , loss:0.000033\n",
      "epoch:8 , loss:0.000108\n",
      "epoch:9 , loss:0.000080\n"
     ]
    }
   ],
   "source": [
    "epochs = 10\n",
    "for epoch in range( epochs ):\n",
    "    for i , data in enumerate( data_iter , 1 ): #对应的数据从序号1开始\n",
    "        x , y = data\n",
    "        l = loss( model(x) , y )\n",
    "        trainer.zero_grad()\n",
    "        l.backward()\n",
    "        trainer.step()\n",
    "    print( f'epoch:{epoch} , loss:{l:f}')"
   ]
  },
  {
   "cell_type": "code",
   "execution_count": 47,
   "metadata": {},
   "outputs": [
    {
     "name": "stdout",
     "output_type": "stream",
     "text": [
      "tensor([[ 2.0000, -3.3996]]) tensor([4.1999])\n"
     ]
    }
   ],
   "source": [
    "predict_w , predict_b  = model[0].weight.data, model[0].bias.data\n",
    "print( predict_w , predict_b )"
   ]
  },
  {
   "cell_type": "code",
   "execution_count": 50,
   "metadata": {},
   "outputs": [
    {
     "data": {
      "text/plain": [
       "tensor([6.6747], grad_fn=<AddBackward0>)"
      ]
     },
     "execution_count": 50,
     "metadata": {},
     "output_type": "execute_result"
    }
   ],
   "source": [
    "model(torch.Tensor([ 1.2726,  0.0207] )) #结果正确"
   ]
  }
 ],
 "metadata": {
  "kernelspec": {
   "display_name": "Python 3.6.9 ('STR-env': venv)",
   "language": "python",
   "name": "python3"
  },
  "language_info": {
   "codemirror_mode": {
    "name": "ipython",
    "version": 3
   },
   "file_extension": ".py",
   "mimetype": "text/x-python",
   "name": "python",
   "nbconvert_exporter": "python",
   "pygments_lexer": "ipython3",
   "version": "3.6.9"
  },
  "orig_nbformat": 4,
  "vscode": {
   "interpreter": {
    "hash": "50d5be1d15b8a64130c39dd1bec9da8c7a8ee88a4330e33eef1c05faa50f91e9"
   }
  }
 },
 "nbformat": 4,
 "nbformat_minor": 2
}
