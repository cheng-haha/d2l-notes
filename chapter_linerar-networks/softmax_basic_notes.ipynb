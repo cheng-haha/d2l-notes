{
 "cells": [
  {
   "cell_type": "markdown",
   "source": [
    "* **测试torch.exp()**"
   ],
   "metadata": {}
  },
  {
   "cell_type": "code",
   "execution_count": 8,
   "source": [
    "import torch\r\n",
    "from d2l import torch as d2l"
   ],
   "outputs": [],
   "metadata": {}
  },
  {
   "cell_type": "code",
   "execution_count": 9,
   "source": [
    "x = torch.Tensor( [[ 1,2,3],[1,1,1]])\r\n",
    "torch.exp(x)#显然这里是对每一个元素进行exp操作"
   ],
   "outputs": [
    {
     "output_type": "execute_result",
     "data": {
      "text/plain": [
       "tensor([[ 2.7183,  7.3891, 20.0855],\n",
       "        [ 2.7183,  2.7183,  2.7183]])"
      ]
     },
     "metadata": {},
     "execution_count": 9
    }
   ],
   "metadata": {}
  },
  {
   "cell_type": "markdown",
   "source": [
    "* **softmax函数测试**"
   ],
   "metadata": {}
  },
  {
   "cell_type": "code",
   "execution_count": 10,
   "source": [
    "def softmax( x ):\r\n",
    "    x_exp = torch.exp(x)\r\n",
    "    partion = x_exp.sum(1 , keepdim = True )\r\n",
    "    print( partion )\r\n",
    "    return x_exp/partion #对输入进来的batch_size*10的数据进行exp操作，然后对每一行作sum操作得到一个batch_size的行向量\r\n",
    "x = torch.Tensor([[1,2] , [1,4]] )\r\n",
    "softmax( x ) , softmax( x ).sum(1)#这里很奇怪，axis设置为1才会对行进行计算"
   ],
   "outputs": [
    {
     "output_type": "stream",
     "name": "stdout",
     "text": [
      "tensor([[10.1073],\n",
      "        [57.3164]])\n",
      "tensor([[10.1073],\n",
      "        [57.3164]])\n"
     ]
    },
    {
     "output_type": "execute_result",
     "data": {
      "text/plain": [
       "(tensor([[0.2689, 0.7311],\n",
       "         [0.0474, 0.9526]]),\n",
       " tensor([1., 1.]))"
      ]
     },
     "metadata": {},
     "execution_count": 10
    }
   ],
   "metadata": {}
  },
  {
   "cell_type": "markdown",
   "source": [
    "* **损失函数测试**"
   ],
   "metadata": {}
  },
  {
   "cell_type": "code",
   "execution_count": 11,
   "source": [
    "def cross_entropy( y_hat , y):\r\n",
    "    return - torch.log( y_hat[range(len( y_hat )) , y ])\r\n",
    "y_hat = torch.Tensor( [[0.2,0.2,0.6], [ 0.01 , 0.98 , 0.01 ]] )\r\n",
    "y = torch.tensor( [0, 1 ])\r\n",
    "cross_entropy( y_hat , y)"
   ],
   "outputs": [
    {
     "output_type": "execute_result",
     "data": {
      "text/plain": [
       "tensor([1.6094, 0.0202])"
      ]
     },
     "metadata": {},
     "execution_count": 11
    }
   ],
   "metadata": {}
  },
  {
   "cell_type": "markdown",
   "source": [
    "* **测试torch.sum**"
   ],
   "metadata": {}
  },
  {
   "cell_type": "code",
   "execution_count": 12,
   "source": [
    "x= torch.Tensor([1,2])\r\n",
    "x.sum(),x #sum方法不改变x本来的值，只是把这个值给返回掉"
   ],
   "outputs": [
    {
     "output_type": "execute_result",
     "data": {
      "text/plain": [
       "(tensor(3.), tensor([1., 2.]))"
      ]
     },
     "metadata": {},
     "execution_count": 12
    }
   ],
   "metadata": {}
  },
  {
   "cell_type": "markdown",
   "source": [
    "* **torch.type()函数测试**"
   ],
   "metadata": {}
  },
  {
   "cell_type": "code",
   "execution_count": 13,
   "source": [
    "x= torch.Tensor([1,2])\r\n",
    "y = torch.tensor( [1,1])\r\n",
    "print( x.dtype , y.dtype )\r\n",
    "y.type( x.dtype )#注意：这样是没有办法对原来的数据类型进行修改的\r\n",
    "print( x.dtype,y.dtype)\r\n",
    "y = y.type( x.dtype )\r\n",
    "print( y.dtype ) #这样的话就修改完毕"
   ],
   "outputs": [
    {
     "output_type": "stream",
     "name": "stdout",
     "text": [
      "torch.float32 torch.int64\n",
      "torch.float32 torch.int64\n",
      "torch.float32\n"
     ]
    }
   ],
   "metadata": {}
  },
  {
   "cell_type": "markdown",
   "source": [
    "* **torch.argmax函数测试**"
   ],
   "metadata": {}
  },
  {
   "cell_type": "code",
   "execution_count": 14,
   "source": [
    "x= torch.Tensor([[8,2],[1,3],[8,9]])\r\n",
    "x.argmax( dim =1 )#torch.argmax(dim)会返回dim维度上张量最大值的索引,并且原来的数据变成一维"
   ],
   "outputs": [
    {
     "output_type": "execute_result",
     "data": {
      "text/plain": [
       "tensor([0, 1, 1])"
      ]
     },
     "metadata": {},
     "execution_count": 14
    }
   ],
   "metadata": {}
  },
  {
   "cell_type": "markdown",
   "source": [
    "* **torch.size().numel()和torch.numel()的区别**"
   ],
   "metadata": {}
  },
  {
   "cell_type": "code",
   "execution_count": 15,
   "source": [
    "y = torch.tensor( [[ 1,2,3],[2,2,2]])\r\n",
    "y.size().numel() , y.numel()#看不到区别，目前估计是一个装逼写法"
   ],
   "outputs": [
    {
     "output_type": "execute_result",
     "data": {
      "text/plain": [
       "(6, 6)"
      ]
     },
     "metadata": {},
     "execution_count": 15
    }
   ],
   "metadata": {}
  },
  {
   "cell_type": "markdown",
   "source": [
    "* **元组想加**"
   ],
   "metadata": {}
  },
  {
   "cell_type": "code",
   "execution_count": 16,
   "source": [
    "(1,2)+(1,)"
   ],
   "outputs": [
    {
     "output_type": "execute_result",
     "data": {
      "text/plain": [
       "(1, 2, 1)"
      ]
     },
     "metadata": {},
     "execution_count": 16
    }
   ],
   "metadata": {}
  },
  {
   "cell_type": "code",
   "execution_count": 17,
   "source": [
    "from collections import Iterable,Iterator,Generator\r\n",
    "a = (1,1)\r\n",
    "isinstance( a , Iterable) , isinstance( a , Iterator ),  isinstance( a ,Generator)\r\n",
    "#显然，元组也是一个与列表数据类型类似的可迭代对象"
   ],
   "outputs": [
    {
     "output_type": "stream",
     "name": "stderr",
     "text": [
      "D:\\CONDA\\envs\\d2l\\lib\\site-packages\\ipykernel_launcher.py:1: DeprecationWarning: Using or importing the ABCs from 'collections' instead of from 'collections.abc' is deprecated since Python 3.3,and in 3.9 it will stop working\n",
      "  \"\"\"Entry point for launching an IPython kernel.\n"
     ]
    },
    {
     "output_type": "execute_result",
     "data": {
      "text/plain": [
       "(True, False, False)"
      ]
     },
     "metadata": {},
     "execution_count": 17
    }
   ],
   "metadata": {}
  },
  {
   "cell_type": "markdown",
   "source": [
    "* **d2l.accuracy**"
   ],
   "metadata": {}
  },
  {
   "cell_type": "code",
   "execution_count": 32,
   "source": [
    "train_iter , _ = d2l.load_data_fashion_mnist( batch_size= 10 )\r\n",
    "x,y = next( iter( train_iter ))"
   ],
   "outputs": [],
   "metadata": {}
  },
  {
   "cell_type": "code",
   "execution_count": 36,
   "source": [
    "y_hat = torch.arange(10)\r\n",
    "# d2l.accuracy( y_hat ,y)\r\n",
    "# y_hat"
   ],
   "outputs": [],
   "metadata": {}
  },
  {
   "cell_type": "code",
   "execution_count": 41,
   "source": [
    "def accruay( y_hat , y ):\r\n",
    "    if len(y_hat.shape) > 1 and y_hat.shape[1] > 1:\r\n",
    "        y_hat = torch.argmax( y_hat , dim=1 )#搞出每一行的的最大值\r\n",
    "    count = y_hat.type( y.dtype ) == y \r\n",
    "    return float( count.type( y.dtype).sum())\r\n",
    "accruay( y_hat,y )"
   ],
   "outputs": [
    {
     "output_type": "execute_result",
     "data": {
      "text/plain": [
       "1.0"
      ]
     },
     "metadata": {},
     "execution_count": 41
    }
   ],
   "metadata": {}
  },
  {
   "cell_type": "markdown",
   "source": [
    "## **list相加**"
   ],
   "metadata": {}
  },
  {
   "cell_type": "code",
   "execution_count": 45,
   "source": [
    "l = [1,2,3]\r\n",
    "l.sum()#列表是没有sum方法的"
   ],
   "outputs": [
    {
     "output_type": "error",
     "ename": "AttributeError",
     "evalue": "'list' object has no attribute 'sum'",
     "traceback": [
      "\u001b[1;31m---------------------------------------------------------------------------\u001b[0m",
      "\u001b[1;31mAttributeError\u001b[0m                            Traceback (most recent call last)",
      "\u001b[1;32mC:\\Users\\Public\\Documents\\Wondershare\\CreatorTemp/ipykernel_12420/414798748.py\u001b[0m in \u001b[0;36m<module>\u001b[1;34m\u001b[0m\n\u001b[0;32m      1\u001b[0m \u001b[0ml\u001b[0m \u001b[1;33m=\u001b[0m \u001b[1;33m[\u001b[0m\u001b[1;36m1\u001b[0m\u001b[1;33m,\u001b[0m\u001b[1;36m2\u001b[0m\u001b[1;33m,\u001b[0m\u001b[1;36m3\u001b[0m\u001b[1;33m]\u001b[0m\u001b[1;33m\u001b[0m\u001b[1;33m\u001b[0m\u001b[0m\n\u001b[1;32m----> 2\u001b[1;33m \u001b[0ml\u001b[0m\u001b[1;33m.\u001b[0m\u001b[0msum\u001b[0m\u001b[1;33m(\u001b[0m\u001b[1;33m)\u001b[0m\u001b[1;31m#列表是没有sum方法的\u001b[0m\u001b[1;33m\u001b[0m\u001b[1;33m\u001b[0m\u001b[0m\n\u001b[0m",
      "\u001b[1;31mAttributeError\u001b[0m: 'list' object has no attribute 'sum'"
     ]
    }
   ],
   "metadata": {}
  },
  {
   "cell_type": "code",
   "execution_count": 46,
   "source": [
    "l = [1,2,3]\r\n",
    "sum(l)#但是我们可以使用sum函数进行求和"
   ],
   "outputs": [
    {
     "output_type": "execute_result",
     "data": {
      "text/plain": [
       "6"
      ]
     },
     "metadata": {},
     "execution_count": 46
    }
   ],
   "metadata": {}
  }
 ],
 "metadata": {
  "orig_nbformat": 4,
  "language_info": {
   "name": "python",
   "version": "3.7.10",
   "mimetype": "text/x-python",
   "codemirror_mode": {
    "name": "ipython",
    "version": 3
   },
   "pygments_lexer": "ipython3",
   "nbconvert_exporter": "python",
   "file_extension": ".py"
  },
  "kernelspec": {
   "name": "python3",
   "display_name": "Python 3.7.10 64-bit ('d2l': conda)"
  },
  "interpreter": {
   "hash": "4e3237dc568d8c012c4be0ad63f07931f6897ff43d3b726284ebc51bc8854128"
  }
 },
 "nbformat": 4,
 "nbformat_minor": 2
}