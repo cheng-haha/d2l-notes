{
 "cells": [
  {
   "cell_type": "markdown",
   "source": [
    "* **可变参数**"
   ],
   "metadata": {}
  },
  {
   "cell_type": "code",
   "execution_count": 1,
   "source": [
    "def accept( * nums ):\r\n",
    "    print( nums )\r\n",
    "nums = [1, 2, 3]\r\n",
    "accept( *nums ) #实际上*相当于将nums打开取到1,2,3元素放入函数中，之后因为*nums是可变参数，将1,2,3组成一个元组(1,2,3)"
   ],
   "outputs": [
    {
     "output_type": "stream",
     "name": "stdout",
     "text": [
      "(1, 2, 3)\n"
     ]
    }
   ],
   "metadata": {}
  },
  {
   "cell_type": "markdown",
   "source": [
    "* **zip函数**"
   ],
   "metadata": {}
  },
  {
   "cell_type": "code",
   "execution_count": 3,
   "source": [
    "a = [1,2,3]\r\n",
    "b = [4,5,6]\r\n",
    "c = zip( a , b )#zip函数将iterable进行压缩，返回一个zip类，如果要显现出来就要list一下\r\n",
    "list( zip( a ,b )) , list( zip( *c))#通过zip( * )的方式对原来的数据进行解压，返回原来的数据"
   ],
   "outputs": [
    {
     "output_type": "execute_result",
     "data": {
      "text/plain": [
       "([(1, 4), (2, 5), (3, 6)], [(1, 2, 3), (4, 5, 6)])"
      ]
     },
     "metadata": {},
     "execution_count": 3
    }
   ],
   "metadata": {}
  },
  {
   "cell_type": "code",
   "execution_count": 9,
   "source": [
    "a = [[1,2,3]]\r\n",
    "c = zip( a )\r\n",
    "list( zip( a ) ) ,list( zip( * c ))"
   ],
   "outputs": [
    {
     "output_type": "execute_result",
     "data": {
      "text/plain": [
       "([([1, 2, 3],)], ([1, 2, 3],))"
      ]
     },
     "metadata": {},
     "execution_count": 9
    }
   ],
   "metadata": {}
  },
  {
   "cell_type": "code",
   "execution_count": 15,
   "source": [
    "from collections import Iterable, Iterator ,Generator\r\n",
    "a = [1,2,3]\r\n",
    "b = [4,5,6]\r\n",
    "print( isinstance(zip( a , b ) , Iterable ) , isinstance( zip( a , b ) , Iterator) \r\n",
    "                , isinstance( zip( a, b ) ,Generator ))#可知返回的zip类型是迭代器,但不是一个生成器\r\n",
    "for a,b  in zip( a , b ):\r\n",
    "    print( a, b)\r\n"
   ],
   "outputs": [
    {
     "output_type": "stream",
     "name": "stdout",
     "text": [
      "True True False\n",
      "1 4\n",
      "2 5\n",
      "3 6\n"
     ]
    },
    {
     "output_type": "stream",
     "name": "stderr",
     "text": [
      "D:\\CONDA\\envs\\d2l\\lib\\site-packages\\ipykernel_launcher.py:1: DeprecationWarning: Using or importing the ABCs from 'collections' instead of from 'collections.abc' is deprecated since Python 3.3,and in 3.9 it will stop working\n",
      "  \"\"\"Entry point for launching an IPython kernel.\n"
     ]
    }
   ],
   "metadata": {}
  }
 ],
 "metadata": {
  "orig_nbformat": 4,
  "language_info": {
   "name": "python",
   "version": "3.7.10",
   "mimetype": "text/x-python",
   "codemirror_mode": {
    "name": "ipython",
    "version": 3
   },
   "pygments_lexer": "ipython3",
   "nbconvert_exporter": "python",
   "file_extension": ".py"
  },
  "kernelspec": {
   "name": "python3",
   "display_name": "Python 3.7.10 64-bit ('d2l': conda)"
  },
  "interpreter": {
   "hash": "4e3237dc568d8c012c4be0ad63f07931f6897ff43d3b726284ebc51bc8854128"
  }
 },
 "nbformat": 4,
 "nbformat_minor": 2
}