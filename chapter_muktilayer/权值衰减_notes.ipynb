{
 "cells": [
  {
   "cell_type": "code",
   "execution_count": 71,
   "source": [
    "import torch"
   ],
   "outputs": [],
   "metadata": {}
  },
  {
   "cell_type": "code",
   "execution_count": 72,
   "source": [
    "torch.normal( 0,1 , size=( 10 , 1 ) ,requires_grad=True)"
   ],
   "outputs": [
    {
     "output_type": "execute_result",
     "data": {
      "text/plain": [
       "tensor([[ 0.0073],\n",
       "        [ 1.4402],\n",
       "        [ 0.8393],\n",
       "        [-1.2547],\n",
       "        [ 0.1243],\n",
       "        [ 0.5344],\n",
       "        [ 0.1138],\n",
       "        [-0.7655],\n",
       "        [ 0.4930],\n",
       "        [-0.7074]], requires_grad=True)"
      ]
     },
     "metadata": {},
     "execution_count": 72
    }
   ],
   "metadata": {}
  },
  {
   "cell_type": "markdown",
   "source": [
    "* torch.no_grad()"
   ],
   "metadata": {}
  },
  {
   "cell_type": "code",
   "execution_count": 73,
   "source": [
    "a = torch.ones(2,requires_grad=True)\r\n",
    "b = a*2\r\n"
   ],
   "outputs": [],
   "metadata": {}
  },
  {
   "cell_type": "code",
   "execution_count": 74,
   "source": [
    "b.requires_grad"
   ],
   "outputs": [
    {
     "output_type": "execute_result",
     "data": {
      "text/plain": [
       "True"
      ]
     },
     "metadata": {},
     "execution_count": 74
    }
   ],
   "metadata": {}
  },
  {
   "cell_type": "code",
   "execution_count": 75,
   "source": [
    "with torch.no_grad():\r\n",
    "    b.mul_(2)#因为b.mul是inplace操作，所以在原地址对值进行了更改，但是无法对原属性requires_grad修改。而b=b*2相当于重新创建了一个对象b，所以在创建时不但可以改值，还可以将requires属性赋为false\r\n",
    "    print( b.requires_grad )\r\n",
    "b.requires_grad "
   ],
   "outputs": [
    {
     "output_type": "stream",
     "name": "stdout",
     "text": [
      "True\n"
     ]
    },
    {
     "output_type": "execute_result",
     "data": {
      "text/plain": [
       "True"
      ]
     },
     "metadata": {},
     "execution_count": 75
    }
   ],
   "metadata": {}
  },
  {
   "cell_type": "code",
   "execution_count": 76,
   "source": [
    "b.backward(torch.ones_like(b) ,retain_graph= True )"
   ],
   "outputs": [],
   "metadata": {}
  },
  {
   "cell_type": "code",
   "execution_count": 77,
   "source": [
    "a.grad , b "
   ],
   "outputs": [
    {
     "output_type": "execute_result",
     "data": {
      "text/plain": [
       "(tensor([2., 2.]), tensor([4., 4.], grad_fn=<MulBackward0>))"
      ]
     },
     "metadata": {},
     "execution_count": 77
    }
   ],
   "metadata": {}
  },
  {
   "cell_type": "markdown",
   "source": [
    "* torch.enable_grad"
   ],
   "metadata": {}
  },
  {
   "cell_type": "code",
   "execution_count": 154,
   "source": [
    "a = torch.ones(2,requires_grad=True)\r\n",
    "b = a*2\r\n",
    "print(a, a.grad, a.requires_grad )\r\n",
    "b.sum().backward(retain_graph = True )\r\n",
    "print(a, a.grad, a.requires_grad )\r\n",
    "with torch.no_grad():\r\n",
    "    a += a.grad\r\n",
    "    print(a, a.grad, a.requires_grad )\r\n",
    "    a.grad.zero_()\r\n",
    "b.sum().backward(retain_graph = True )\r\n",
    "print(a, a.grad ,a.requires_grad )"
   ],
   "outputs": [
    {
     "output_type": "stream",
     "name": "stdout",
     "text": [
      "tensor([1., 1.], requires_grad=True) None True\n",
      "tensor([1., 1.], requires_grad=True) tensor([2., 2.]) True\n",
      "tensor([3., 3.], requires_grad=True) tensor([2., 2.]) True\n",
      "tensor([3., 3.], requires_grad=True) tensor([2., 2.]) True\n"
     ]
    }
   ],
   "metadata": {}
  },
  {
   "cell_type": "code",
   "execution_count": 152,
   "source": [
    "a = torch.ones(2,requires_grad=True)\r\n",
    "b = a*2\r\n",
    "print(a, a.grad, a.requires_grad )\r\n",
    "b.sum().backward(retain_graph = True )\r\n",
    "print(a, a.grad, a.requires_grad )\r\n",
    "with torch.enable_grad():\r\n",
    "    with torch.no_grad():\r\n",
    "        a += a.grad\r\n",
    "        print(a, a.grad, a.requires_grad )\r\n",
    "        # a.grad.zero_()\r\n",
    "b.sum().backward(retain_graph = True )\r\n",
    "print(a, a.grad ,a.requires_grad )"
   ],
   "outputs": [
    {
     "output_type": "stream",
     "name": "stdout",
     "text": [
      "tensor([1., 1.], requires_grad=True) None True\n",
      "tensor([1., 1.], requires_grad=True) tensor([2., 2.]) True\n",
      "tensor([3., 3.], requires_grad=True) tensor([2., 2.]) True\n",
      "tensor([3., 3.], requires_grad=True) tensor([4., 4.]) True\n"
     ]
    }
   ],
   "metadata": {}
  }
 ],
 "metadata": {
  "orig_nbformat": 4,
  "language_info": {
   "name": "python",
   "version": "3.7.10",
   "mimetype": "text/x-python",
   "codemirror_mode": {
    "name": "ipython",
    "version": 3
   },
   "pygments_lexer": "ipython3",
   "nbconvert_exporter": "python",
   "file_extension": ".py"
  },
  "kernelspec": {
   "name": "python3",
   "display_name": "Python 3.7.10 64-bit ('d2l': conda)"
  },
  "interpreter": {
   "hash": "4e3237dc568d8c012c4be0ad63f07931f6897ff43d3b726284ebc51bc8854128"
  }
 },
 "nbformat": 4,
 "nbformat_minor": 2
}