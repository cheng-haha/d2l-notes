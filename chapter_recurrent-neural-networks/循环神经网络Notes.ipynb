{
 "cells": [
  {
   "cell_type": "code",
   "execution_count": 1,
   "source": [
    "import torch\r\n",
    "from d2l import torch as d2l\r\n",
    "\r\n",
    "X, W_xh = torch.normal(0, 1, (3, 1)), torch.normal(0, 1, (1, 4))\r\n",
    "H, W_hh = torch.normal(0, 1, (3, 4)), torch.normal(0, 1, (4, 4))\r\n",
    "torch.matmul(X, W_xh) + torch.matmul(H, W_hh)\r\n"
   ],
   "outputs": [
    {
     "output_type": "execute_result",
     "data": {
      "text/plain": [
       "tensor([[-4.1561,  0.6031,  1.3389,  1.1928],\n",
       "        [ 5.6737, -3.2015,  0.9152, -1.3683],\n",
       "        [-2.5828, -2.5877,  4.4622,  2.9620]])"
      ]
     },
     "metadata": {},
     "execution_count": 1
    }
   ],
   "metadata": {}
  },
  {
   "cell_type": "code",
   "execution_count": 3,
   "source": [
    "X, W_xh , H, W_hh"
   ],
   "outputs": [
    {
     "output_type": "execute_result",
     "data": {
      "text/plain": [
       "(tensor([[-0.1121],\n",
       "         [ 0.0661],\n",
       "         [-1.5134]]),\n",
       " tensor([[ 1.2567,  1.3578, -0.8243, -0.6825]]),\n",
       " tensor([[-0.5755,  0.3460,  0.7734, -1.2232],\n",
       "         [ 0.3587,  1.2986, -1.7227, -0.0086],\n",
       "         [ 0.2079,  1.4418,  1.6779, -1.0902]]),\n",
       " tensor([[ 1.7471,  0.0802,  1.3745,  1.0555],\n",
       "         [ 2.3949, -1.6889,  0.7346, -0.4305],\n",
       "         [-1.0884,  0.6577,  0.2835,  0.6689],\n",
       "         [ 2.4497, -0.7172, -1.2787, -1.1081]]))"
      ]
     },
     "metadata": {},
     "execution_count": 3
    }
   ],
   "metadata": {}
  },
  {
   "cell_type": "code",
   "execution_count": 4,
   "source": [
    "torch.cat( ( X,H ) , dim=1 ) , torch.cat( ( W_xh , W_hh ) , dim= 0 )"
   ],
   "outputs": [
    {
     "output_type": "execute_result",
     "data": {
      "text/plain": [
       "(tensor([[-0.1121, -0.5755,  0.3460,  0.7734, -1.2232],\n",
       "         [ 0.0661,  0.3587,  1.2986, -1.7227, -0.0086],\n",
       "         [-1.5134,  0.2079,  1.4418,  1.6779, -1.0902]]),\n",
       " tensor([[ 1.2567,  1.3578, -0.8243, -0.6825],\n",
       "         [ 1.7471,  0.0802,  1.3745,  1.0555],\n",
       "         [ 2.3949, -1.6889,  0.7346, -0.4305],\n",
       "         [-1.0884,  0.6577,  0.2835,  0.6689],\n",
       "         [ 2.4497, -0.7172, -1.2787, -1.1081]]))"
      ]
     },
     "metadata": {},
     "execution_count": 4
    }
   ],
   "metadata": {}
  },
  {
   "cell_type": "code",
   "execution_count": 5,
   "source": [
    "torch.mm( torch.cat( ( X,H ) , dim=1 ) , torch.cat( ( W_xh , W_hh ) , dim= 0 ) )"
   ],
   "outputs": [
    {
     "output_type": "execute_result",
     "data": {
      "text/plain": [
       "tensor([[-4.1561,  0.6031,  1.3389,  1.1928],\n",
       "        [ 5.6737, -3.2015,  0.9152, -1.3683],\n",
       "        [-2.5828, -2.5877,  4.4622,  2.9620]])"
      ]
     },
     "metadata": {},
     "execution_count": 5
    }
   ],
   "metadata": {}
  }
 ],
 "metadata": {
  "orig_nbformat": 4,
  "language_info": {
   "name": "python",
   "version": "3.7.10",
   "mimetype": "text/x-python",
   "codemirror_mode": {
    "name": "ipython",
    "version": 3
   },
   "pygments_lexer": "ipython3",
   "nbconvert_exporter": "python",
   "file_extension": ".py"
  },
  "kernelspec": {
   "name": "python3",
   "display_name": "Python 3.7.10 64-bit ('d2l': conda)"
  },
  "interpreter": {
   "hash": "4e3237dc568d8c012c4be0ad63f07931f6897ff43d3b726284ebc51bc8854128"
  }
 },
 "nbformat": 4,
 "nbformat_minor": 2
}