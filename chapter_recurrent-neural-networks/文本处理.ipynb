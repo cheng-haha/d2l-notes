{
 "cells": [
  {
   "cell_type": "code",
   "execution_count": 2,
   "source": [
    "import collections\r\n",
    "import re\r\n",
    "from d2l import torch as d2l\r\n"
   ],
   "outputs": [],
   "metadata": {}
  },
  {
   "cell_type": "code",
   "execution_count": 3,
   "source": [
    "#@save\r\n",
    "d2l.DATA_HUB['time_machine'] = (d2l.DATA_URL + 'timemachine.txt',\r\n",
    "                                '090b5e7e70c295757f55df93cb0a180b9691891a')\r\n",
    "\r\n",
    "def read_time_machine():  #@save\r\n",
    "    \"\"\"Load the time machine dataset into a list of text lines.\"\"\"\r\n",
    "    with open(d2l.download('time_machine'), 'r') as f:\r\n",
    "        lines = f.readlines()\r\n",
    "    return [re.sub('[^A-Za-z]+', ' ', line).strip().lower() for line in lines]\r\n",
    "\r\n",
    "lines = read_time_machine()\r\n",
    "print(f'# text lines: {len(lines)}')\r\n",
    "print(lines[0])\r\n",
    "print(lines[10])\r\n"
   ],
   "outputs": [
    {
     "output_type": "stream",
     "name": "stdout",
     "text": [
      "# text lines: 3221\n",
      "the time machine by h g wells\n",
      "twinkled and his usually pale face was flushed and animated the\n"
     ]
    }
   ],
   "metadata": {}
  },
  {
   "cell_type": "code",
   "execution_count": 4,
   "source": [
    "def tokenize( lines , token = 'word' ):\r\n",
    "    if token == 'word':\r\n",
    "        return [  line.split()   for line in lines]\r\n",
    "    elif token == 'char':\r\n",
    "        return [ list(line) for line in lines ]\r\n",
    "    else:\r\n",
    "        print( '错误，未知词元类型:'+token )\r\n",
    "tokens = tokenize( lines , token='char' )\r\n",
    "for i in range(10):\r\n",
    "    print( tokens[i])"
   ],
   "outputs": [
    {
     "output_type": "stream",
     "name": "stdout",
     "text": [
      "['t', 'h', 'e', ' ', 't', 'i', 'm', 'e', ' ', 'm', 'a', 'c', 'h', 'i', 'n', 'e', ' ', 'b', 'y', ' ', 'h', ' ', 'g', ' ', 'w', 'e', 'l', 'l', 's']\n",
      "[]\n",
      "[]\n",
      "[]\n",
      "[]\n",
      "['i']\n",
      "[]\n",
      "[]\n",
      "['t', 'h', 'e', ' ', 't', 'i', 'm', 'e', ' ', 't', 'r', 'a', 'v', 'e', 'l', 'l', 'e', 'r', ' ', 'f', 'o', 'r', ' ', 's', 'o', ' ', 'i', 't', ' ', 'w', 'i', 'l', 'l', ' ', 'b', 'e', ' ', 'c', 'o', 'n', 'v', 'e', 'n', 'i', 'e', 'n', 't', ' ', 't', 'o', ' ', 's', 'p', 'e', 'a', 'k', ' ', 'o', 'f', ' ', 'h', 'i', 'm']\n",
      "['w', 'a', 's', ' ', 'e', 'x', 'p', 'o', 'u', 'n', 'd', 'i', 'n', 'g', ' ', 'a', ' ', 'r', 'e', 'c', 'o', 'n', 'd', 'i', 't', 'e', ' ', 'm', 'a', 't', 't', 'e', 'r', ' ', 't', 'o', ' ', 'u', 's', ' ', 'h', 'i', 's', ' ', 'g', 'r', 'e', 'y', ' ', 'e', 'y', 'e', 's', ' ', 's', 'h', 'o', 'n', 'e', ' ', 'a', 'n', 'd']\n"
     ]
    }
   ],
   "metadata": {}
  },
  {
   "cell_type": "code",
   "execution_count": 5,
   "source": [
    "len( tokens)#正好对应3221行"
   ],
   "outputs": [
    {
     "output_type": "execute_result",
     "data": {
      "text/plain": [
       "3221"
      ]
     },
     "metadata": {},
     "execution_count": 5
    }
   ],
   "metadata": {}
  },
  {
   "cell_type": "code",
   "execution_count": 25,
   "source": [
    "counters = collections.Counter(   [ token for line in tokens for token in line ] ) #Counter的作用就是计算当前元素的个数，并安装\r\n",
    "counters.items()"
   ],
   "outputs": [
    {
     "output_type": "execute_result",
     "data": {
      "text/plain": [
       "dict_items([('t', 13515), ('h', 8257), ('e', 17838), (' ', 29927), ('i', 10138), ('m', 4043), ('a', 11704), ('c', 3424), ('n', 9917), ('b', 1897), ('y', 2679), ('g', 3075), ('w', 3225), ('l', 6146), ('s', 8486), ('r', 7674), ('v', 1295), ('f', 3354), ('o', 9758), ('p', 2427), ('k', 1087), ('x', 236), ('u', 3805), ('d', 6337), ('z', 144), ('j', 97), ('q', 95)])"
      ]
     },
     "metadata": {},
     "execution_count": 25
    }
   ],
   "metadata": {}
  },
  {
   "cell_type": "code",
   "execution_count": 29,
   "source": [
    "sorted(counters.items()  , key= lambda x:x[1] , reverse= True)"
   ],
   "outputs": [
    {
     "output_type": "execute_result",
     "data": {
      "text/plain": [
       "[(' ', 29927),\n",
       " ('e', 17838),\n",
       " ('t', 13515),\n",
       " ('a', 11704),\n",
       " ('i', 10138),\n",
       " ('n', 9917),\n",
       " ('o', 9758),\n",
       " ('s', 8486),\n",
       " ('h', 8257),\n",
       " ('r', 7674),\n",
       " ('d', 6337),\n",
       " ('l', 6146),\n",
       " ('m', 4043),\n",
       " ('u', 3805),\n",
       " ('c', 3424),\n",
       " ('f', 3354),\n",
       " ('w', 3225),\n",
       " ('g', 3075),\n",
       " ('y', 2679),\n",
       " ('p', 2427),\n",
       " ('b', 1897),\n",
       " ('v', 1295),\n",
       " ('k', 1087),\n",
       " ('x', 236),\n",
       " ('z', 144),\n",
       " ('j', 97),\n",
       " ('q', 95)]"
      ]
     },
     "metadata": {},
     "execution_count": 29
    }
   ],
   "metadata": {}
  },
  {
   "cell_type": "code",
   "execution_count": 30,
   "source": [
    "counters.most_common()"
   ],
   "outputs": [
    {
     "output_type": "execute_result",
     "data": {
      "text/plain": [
       "[(' ', 29927),\n",
       " ('e', 17838),\n",
       " ('t', 13515),\n",
       " ('a', 11704),\n",
       " ('i', 10138),\n",
       " ('n', 9917),\n",
       " ('o', 9758),\n",
       " ('s', 8486),\n",
       " ('h', 8257),\n",
       " ('r', 7674),\n",
       " ('d', 6337),\n",
       " ('l', 6146),\n",
       " ('m', 4043),\n",
       " ('u', 3805),\n",
       " ('c', 3424),\n",
       " ('f', 3354),\n",
       " ('w', 3225),\n",
       " ('g', 3075),\n",
       " ('y', 2679),\n",
       " ('p', 2427),\n",
       " ('b', 1897),\n",
       " ('v', 1295),\n",
       " ('k', 1087),\n",
       " ('x', 236),\n",
       " ('z', 144),\n",
       " ('j', 97),\n",
       " ('q', 95)]"
      ]
     },
     "metadata": {},
     "execution_count": 30
    }
   ],
   "metadata": {}
  },
  {
   "cell_type": "code",
   "execution_count": null,
   "source": [
    "class Vocab:  #@save\r\n",
    "    \"\"\"文本词汇表\"\"\"\r\n",
    "    def __init__(self, tokens=None, min_freq=0, reserved_tokens=None):\r\n",
    "        if tokens is None:\r\n",
    "            tokens = []\r\n",
    "        if reserved_tokens is None:\r\n",
    "            reserved_tokens = []\r\n",
    "        # 按出现频率排序\r\n",
    "        counter = count_corpus(tokens)\r\n",
    "        self.token_freqs = sorted(counter.items(), key=lambda x: x[1],\r\n",
    "                                  reverse=True)\r\n",
    "        # 未知词元的索引为0\r\n",
    "        self.unk, uniq_tokens = 0, ['<unk>'] + reserved_tokens\r\n",
    "        uniq_tokens += [token for token, freq in self.token_freqs\r\n",
    "                        if freq >= min_freq and token not in uniq_tokens]\r\n",
    "        self.idx_to_token, self.token_to_idx = [], dict()\r\n",
    "        for token in uniq_tokens:\r\n",
    "            self.idx_to_token.append(token)\r\n",
    "            self.token_to_idx[token] = len(self.idx_to_token) - 1\r\n",
    "\r\n",
    "    def __len__(self):\r\n",
    "        return len(self.idx_to_token)\r\n",
    "\r\n",
    "    def __getitem__(self, tokens):\r\n",
    "        if not isinstance(tokens, (list, tuple)):\r\n",
    "            return self.token_to_idx.get(tokens, self.unk)\r\n",
    "        return [self.__getitem__(token) for token in tokens]\r\n",
    "\r\n",
    "    def to_tokens(self, indices):\r\n",
    "        if not isinstance(indices, (list, tuple)):\r\n",
    "            return self.idx_to_token[indices]\r\n",
    "        return [self.idx_to_token[index] for index in indices]\r\n",
    "\r\n",
    "def count_corpus(tokens):  #@save\r\n",
    "    \"\"\"统计词元的频率。\"\"\"\r\n",
    "    # 这里的 `tokens` 是 1D 列表或 2D 列表\r\n",
    "    if len(tokens) == 0 or isinstance(tokens[0], list):\r\n",
    "        # 将词元列表展平成使用词元填充的一个列表\r\n",
    "        tokens = [token for line in tokens for token in line]\r\n",
    "    return collections.Counter(tokens)\r\n"
   ],
   "outputs": [],
   "metadata": {}
  }
 ],
 "metadata": {
  "orig_nbformat": 4,
  "language_info": {
   "name": "python",
   "version": "3.7.10",
   "mimetype": "text/x-python",
   "codemirror_mode": {
    "name": "ipython",
    "version": 3
   },
   "pygments_lexer": "ipython3",
   "nbconvert_exporter": "python",
   "file_extension": ".py"
  },
  "kernelspec": {
   "name": "python3",
   "display_name": "Python 3.7.10 64-bit ('d2l': conda)"
  },
  "interpreter": {
   "hash": "4e3237dc568d8c012c4be0ad63f07931f6897ff43d3b726284ebc51bc8854128"
  }
 },
 "nbformat": 4,
 "nbformat_minor": 2
}