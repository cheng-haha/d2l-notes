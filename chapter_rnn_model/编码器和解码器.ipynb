{
 "cells": [
  {
   "cell_type": "code",
   "execution_count": 1,
   "source": [
    "from torch import nn\r\n",
    "\r\n",
    "#编码器，在编码器接口中，我们只指定长度可变的序列作为编码器的输入 X。任何继承这个 Encoder 基类的模型将完成代码实现。\r\n",
    "#@save\r\n",
    "class Encoder(nn.Module):\r\n",
    "    \"\"\"编码器-解码器结构的基本编码器接口。\"\"\"\r\n",
    "    def __init__(self, **kwargs):\r\n",
    "        super(Encoder, self).__init__(**kwargs)\r\n",
    "\r\n",
    "    def forward(self, X, *args):\r\n",
    "        raise NotImplementedError\r\n"
   ],
   "outputs": [],
   "metadata": {}
  },
  {
   "cell_type": "markdown",
   "source": [
    "# 编码器"
   ],
   "metadata": {}
  },
  {
   "cell_type": "code",
   "execution_count": 2,
   "source": [
    "#@save\r\n",
    "class Decoder(nn.Module):\r\n",
    "    \"\"\"编码器-解码器结构的基本解码器接口。\"\"\"\r\n",
    "    def __init__(self, **kwargs):\r\n",
    "        super(Decoder, self).__init__(**kwargs)\r\n",
    "\r\n",
    "    def init_state(self, enc_outputs, *args):\r\n",
    "        raise NotImplementedError\r\n",
    "\r\n",
    "    def forward(self, X, state):\r\n",
    "        raise NotImplementedError\r\n"
   ],
   "outputs": [],
   "metadata": {}
  },
  {
   "cell_type": "code",
   "execution_count": null,
   "source": [
    "#@save\r\n",
    "class EncoderDecoder(nn.Module):\r\n",
    "    \"\"\"编码器-解码器结构的基类。\"\"\"\r\n",
    "    def __init__(self, encoder, decoder, **kwargs):\r\n",
    "        super( ).__init__(**kwargs)\r\n",
    "        self.encoder = encoder\r\n",
    "        self.decoder = decoder\r\n",
    "\r\n",
    "    def forward(self, enc_X, dec_X, *args):\r\n",
    "        enc_outputs = self.encoder(enc_X, *args)\r\n",
    "        dec_state = self.decoder.init_state(enc_outputs, *args)\r\n",
    "        return self.decoder(dec_X, dec_state)\r\n"
   ],
   "outputs": [],
   "metadata": {}
  }
 ],
 "metadata": {
  "orig_nbformat": 4,
  "language_info": {
   "name": "python",
   "version": "3.7.10",
   "mimetype": "text/x-python",
   "codemirror_mode": {
    "name": "ipython",
    "version": 3
   },
   "pygments_lexer": "ipython3",
   "nbconvert_exporter": "python",
   "file_extension": ".py"
  },
  "kernelspec": {
   "name": "python3",
   "display_name": "Python 3.7.10 64-bit ('d2l': conda)"
  },
  "interpreter": {
   "hash": "4e3237dc568d8c012c4be0ad63f07931f6897ff43d3b726284ebc51bc8854128"
  }
 },
 "nbformat": 4,
 "nbformat_minor": 2
}